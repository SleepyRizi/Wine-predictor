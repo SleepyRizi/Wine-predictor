{
 "cells": [
  {
   "cell_type": "code",
   "execution_count": 1,
   "id": "10a20efd",
   "metadata": {},
   "outputs": [],
   "source": [
    "import pandas as pd\n",
    "import numpy as  np\n",
    "import matplotlib.pyplot as plt\n",
    "import seaborn as sns\n",
    "from nltk.stem.porter import PorterStemmer\n",
    "from nltk.tokenize import word_tokenize,sent_tokenize\n",
    "import spacy\n",
    "import re\n",
    "from unidecode import unidecode\n",
    "import string\n",
    "from bs4 import BeautifulSoup\n",
    "from nltk.corpus import stopwords\n",
    "\n",
    "import warnings\n",
    "warnings.filterwarnings('ignore')"
   ]
  },
  {
   "cell_type": "code",
   "execution_count": 2,
   "id": "eeb50194",
   "metadata": {},
   "outputs": [],
   "source": [
    "from collections import Counter\n",
    "stop_words = stopwords.words('english')\n",
    "stopwords_dict = Counter(stop_words)"
   ]
  },
  {
   "cell_type": "markdown",
   "id": "aea2e09f",
   "metadata": {},
   "source": [
    "### 1. Initial data geathering"
   ]
  },
  {
   "cell_type": "code",
   "execution_count": 3,
   "id": "36a207a9",
   "metadata": {},
   "outputs": [],
   "source": [
    "df=pd.read_csv('Assignment Data.csv',encoding='utf-8',usecols=['description','variety'])"
   ]
  },
  {
   "cell_type": "code",
   "execution_count": 4,
   "id": "11b184f3",
   "metadata": {},
   "outputs": [
    {
     "data": {
      "text/html": [
       "<div>\n",
       "<style scoped>\n",
       "    .dataframe tbody tr th:only-of-type {\n",
       "        vertical-align: middle;\n",
       "    }\n",
       "\n",
       "    .dataframe tbody tr th {\n",
       "        vertical-align: top;\n",
       "    }\n",
       "\n",
       "    .dataframe thead th {\n",
       "        text-align: right;\n",
       "    }\n",
       "</style>\n",
       "<table border=\"1\" class=\"dataframe\">\n",
       "  <thead>\n",
       "    <tr style=\"text-align: right;\">\n",
       "      <th></th>\n",
       "      <th>description</th>\n",
       "      <th>variety</th>\n",
       "    </tr>\n",
       "  </thead>\n",
       "  <tbody>\n",
       "    <tr>\n",
       "      <th>31825</th>\n",
       "      <td>This spicy wine is full of botrytis, giving a ...</td>\n",
       "      <td>Bordeaux-style White Blend</td>\n",
       "    </tr>\n",
       "    <tr>\n",
       "      <th>127089</th>\n",
       "      <td>Nearly seven years after harvest, it remains l...</td>\n",
       "      <td>Tempranillo Blend</td>\n",
       "    </tr>\n",
       "    <tr>\n",
       "      <th>66406</th>\n",
       "      <td>This has a lively presence in the mouth, with ...</td>\n",
       "      <td>Pinot Noir</td>\n",
       "    </tr>\n",
       "    <tr>\n",
       "      <th>84782</th>\n",
       "      <td>Waves of berry aromas matched by oak-based van...</td>\n",
       "      <td>Red Blend</td>\n",
       "    </tr>\n",
       "  </tbody>\n",
       "</table>\n",
       "</div>"
      ],
      "text/plain": [
       "                                              description  \\\n",
       "31825   This spicy wine is full of botrytis, giving a ...   \n",
       "127089  Nearly seven years after harvest, it remains l...   \n",
       "66406   This has a lively presence in the mouth, with ...   \n",
       "84782   Waves of berry aromas matched by oak-based van...   \n",
       "\n",
       "                           variety  \n",
       "31825   Bordeaux-style White Blend  \n",
       "127089           Tempranillo Blend  \n",
       "66406                   Pinot Noir  \n",
       "84782                    Red Blend  "
      ]
     },
     "execution_count": 4,
     "metadata": {},
     "output_type": "execute_result"
    }
   ],
   "source": [
    "df.sample(4)"
   ]
  },
  {
   "cell_type": "code",
   "execution_count": 5,
   "id": "43604498",
   "metadata": {},
   "outputs": [
    {
     "name": "stdout",
     "output_type": "stream",
     "text": [
      "<class 'pandas.core.frame.DataFrame'>\n",
      "RangeIndex: 129971 entries, 0 to 129970\n",
      "Data columns (total 2 columns):\n",
      " #   Column       Non-Null Count   Dtype \n",
      "---  ------       --------------   ----- \n",
      " 0   description  129971 non-null  object\n",
      " 1   variety      129970 non-null  object\n",
      "dtypes: object(2)\n",
      "memory usage: 2.0+ MB\n"
     ]
    }
   ],
   "source": [
    "df.info()"
   ]
  },
  {
   "cell_type": "code",
   "execution_count": 6,
   "id": "801b352c",
   "metadata": {},
   "outputs": [
    {
     "data": {
      "text/plain": [
       "description    0\n",
       "variety        1\n",
       "dtype: int64"
      ]
     },
     "execution_count": 6,
     "metadata": {},
     "output_type": "execute_result"
    }
   ],
   "source": [
    "df.isna().sum()"
   ]
  },
  {
   "cell_type": "code",
   "execution_count": 7,
   "id": "feec1627",
   "metadata": {},
   "outputs": [],
   "source": [
    "df.dropna(inplace=True)"
   ]
  },
  {
   "cell_type": "code",
   "execution_count": 8,
   "id": "89dc1f97",
   "metadata": {},
   "outputs": [
    {
     "data": {
      "text/plain": [
       "10006"
      ]
     },
     "execution_count": 8,
     "metadata": {},
     "output_type": "execute_result"
    }
   ],
   "source": [
    "df.duplicated().sum()"
   ]
  },
  {
   "cell_type": "code",
   "execution_count": 9,
   "id": "e21a9184",
   "metadata": {},
   "outputs": [],
   "source": [
    "df.drop_duplicates(inplace=True)"
   ]
  },
  {
   "cell_type": "code",
   "execution_count": 10,
   "id": "f4bbf4e9",
   "metadata": {},
   "outputs": [
    {
     "data": {
      "text/plain": [
       "(119964, 2)"
      ]
     },
     "execution_count": 10,
     "metadata": {},
     "output_type": "execute_result"
    }
   ],
   "source": [
    "df.shape"
   ]
  },
  {
   "cell_type": "markdown",
   "id": "df296b89",
   "metadata": {},
   "source": [
    "### 2. Crafting target columns"
   ]
  },
  {
   "cell_type": "code",
   "execution_count": 11,
   "id": "a066c7f6",
   "metadata": {},
   "outputs": [],
   "source": [
    "df['variety']=df['variety'].apply(lambda x : unidecode(x))"
   ]
  },
  {
   "cell_type": "code",
   "execution_count": 12,
   "id": "f29aa66f",
   "metadata": {},
   "outputs": [],
   "source": [
    "exclusion= string.punctuation"
   ]
  },
  {
   "cell_type": "code",
   "execution_count": 13,
   "id": "0bda6a5e",
   "metadata": {},
   "outputs": [],
   "source": [
    "def remove_punch(text):\n",
    "    for x in exclusion:\n",
    "        text=text.replace(x,' ')\n",
    "    return text"
   ]
  },
  {
   "cell_type": "code",
   "execution_count": 14,
   "id": "b7293553",
   "metadata": {},
   "outputs": [],
   "source": [
    "df['variety']=df['variety'].apply(remove_punch)"
   ]
  },
  {
   "cell_type": "markdown",
   "id": "511ac333",
   "metadata": {},
   "source": [
    "#### 2.1 Creating abstraction in target columns"
   ]
  },
  {
   "cell_type": "code",
   "execution_count": 15,
   "id": "f63ebe1d",
   "metadata": {},
   "outputs": [],
   "source": [
    "#using insights about data\n",
    "\n",
    "df['abstract_varieties']=df['variety'].apply(lambda x: x.replace('Bordeaux style ',''))\n",
    "df['abstract_varieties']=df['abstract_varieties'].apply(lambda x: x.replace('Rhone style ',''))\n",
    "df['abstract_varieties']=df['abstract_varieties'].apply(lambda x: x.replace('Provence ',''))\n",
    "df['abstract_varieties']=df['abstract_varieties'].apply(lambda x: x.replace('Austrian ',''))\n",
    "df['abstract_varieties']=df['abstract_varieties'].apply(lambda x: x.replace('Alvarelhao','Alvarinho'))\n",
    "df['abstract_varieties']=df['abstract_varieties'].apply(lambda x: x.replace('Alvarinho Chardonnay','Alvarinho'))"
   ]
  },
  {
   "cell_type": "code",
   "execution_count": 16,
   "id": "26293e8d",
   "metadata": {},
   "outputs": [],
   "source": [
    "df['abstract_varieties']=df['abstract_varieties'].apply(lambda x: x.lower())"
   ]
  },
  {
   "cell_type": "code",
   "execution_count": 18,
   "id": "70603609",
   "metadata": {},
   "outputs": [],
   "source": [
    "#with regular expression\n",
    "\n",
    "pattern=re.compile(r'\\bcabernet|sauvignon')\n",
    "def remove_sauvignon(text):\n",
    "    l=pattern.findall(text)\n",
    "    if len(l)>0:\n",
    "        text='cabernet sauvignon'\n",
    "    return text"
   ]
  },
  {
   "cell_type": "code",
   "execution_count": 19,
   "id": "455b40e9",
   "metadata": {},
   "outputs": [],
   "source": [
    "df['abstract_varieties']=df['abstract_varieties'].apply(remove_sauvignon)"
   ]
  },
  {
   "cell_type": "markdown",
   "id": "bf5f0e9d",
   "metadata": {},
   "source": [
    "### 2.2 EDA"
   ]
  },
  {
   "cell_type": "markdown",
   "id": "ad8422b7",
   "metadata": {},
   "source": [
    "#### 2.2.1 Before applying heuristics"
   ]
  },
  {
   "cell_type": "code",
   "execution_count": 20,
   "id": "d748b7fc",
   "metadata": {},
   "outputs": [
    {
     "data": {
      "text/plain": [
       "<AxesSubplot:ylabel='Density'>"
      ]
     },
     "execution_count": 20,
     "metadata": {},
     "output_type": "execute_result"
    },
    {
     "data": {
      "image/png": "[encoded data removed]",
      "text/plain": [
       "<Figure size 720x432 with 1 Axes>"
      ]
     },
     "metadata": {
      "needs_background": "light"
     },
     "output_type": "display_data"
    }
   ],
   "source": [
    "df['abstract_varieties'].value_counts().plot(kind='kde',figsize=(10,6))"
   ]
  },
  {
   "cell_type": "code",
   "execution_count": 21,
   "id": "0ef8ad1c",
   "metadata": {},
   "outputs": [
    {
     "data": {
      "text/plain": [
       "<AxesSubplot:>"
      ]
     },
     "execution_count": 21,
     "metadata": {},
     "output_type": "execute_result"
    },
    {
     "data": {
      "image/png": "[encoded data removed]",
      "text/plain": [
       "<Figure size 720x432 with 1 Axes>"
      ]
     },
     "metadata": {
      "needs_background": "light"
     },
     "output_type": "display_data"
    }
   ],
   "source": [
    "prob = df['abstract_varieties'].value_counts(normalize=False)\n",
    "threshold = 500\n",
    "mask = prob > threshold\n",
    "tail_prob = prob.loc[~mask].sum()\n",
    "prob = prob.loc[mask]\n",
    "prob['other'] = tail_prob\n",
    "prob.plot(kind='bar',figsize=(10,6))"
   ]
  },
  {
   "cell_type": "markdown",
   "id": "c61852aa",
   "metadata": {},
   "source": [
    "### 2.3 After applying some heuristics to reduce abnormality in distribution "
   ]
  },
  {
   "cell_type": "code",
   "execution_count": 22,
   "id": "0f665474",
   "metadata": {},
   "outputs": [
    {
     "data": {
      "text/plain": [
       "<AxesSubplot:>"
      ]
     },
     "execution_count": 22,
     "metadata": {},
     "output_type": "execute_result"
    },
    {
     "data": {
      "image/png": "[encoded data removed]",
      "text/plain": [
       "<Figure size 720x432 with 1 Axes>"
      ]
     },
     "metadata": {
      "needs_background": "light"
     },
     "output_type": "display_data"
    }
   ],
   "source": [
    "prob = df['abstract_varieties'].value_counts(normalize=False)\n",
    "\n",
    "mask_rare = prob <= 50\n",
    "mask_rare_medium = (prob <= 160) & (prob >50) \n",
    "mask_medium = (prob <=300) & (prob >160)\n",
    "mask_rare_heigh = (prob <= 400) & (prob >300)\n",
    "mask_heigh = (prob <= 550) & (prob >400)\n",
    "mask_rare_extreme = (prob <= 600) & (prob >550)\n",
    "mask_extreme=(prob <= 800) & (prob >600)\n",
    "mask_more_extreme=(prob <= 1100) & (prob >800)\n",
    "\n",
    "\n",
    "tail1_prob= prob.loc[mask_rare].sum()\n",
    "tail2_prob=prob.loc[mask_rare_medium].sum()\n",
    "tail3_prob=prob.loc[mask_medium].sum()\n",
    "tail4_prob=prob.loc[mask_rare_heigh].sum()\n",
    "tail5_prob=prob.loc[mask_heigh].sum()\n",
    "tail6_prob=prob.loc[mask_rare_extreme].sum()\n",
    "tail7_prob=prob.loc[mask_extreme].sum()\n",
    "tail8_prob=prob.loc[mask_more_extreme].sum()\n",
    "\n",
    "\n",
    "\n",
    "prob=prob.loc[~(mask_more_extreme+\n",
    "                mask_rare_extreme+\n",
    "                mask_extreme+\n",
    "                mask_heigh+\n",
    "                mask_rare_heigh+\n",
    "                mask_medium+\n",
    "                mask_rare_medium+\n",
    "                mask_rare)]\n",
    "\n",
    "\n",
    "prob['rare']=tail1_prob\n",
    "prob['rare_medium']=tail2_prob\n",
    "prob['medium']=tail3_prob\n",
    "prob['rare_heigh']=tail4_prob\n",
    "prob['heigh']=tail5_prob\n",
    "prob['rare_extreme']=tail6_prob\n",
    "prob['extreme']=tail7_prob\n",
    "prob['more_extreme']=tail8_prob\n",
    "\n",
    "\n",
    "\n",
    "prob.plot(kind='bar',figsize=(10,6))\n",
    "\n"
   ]
  },
  {
   "cell_type": "code",
   "execution_count": 23,
   "id": "7a05940c",
   "metadata": {},
   "outputs": [
    {
     "data": {
      "text/plain": [
       "<AxesSubplot:ylabel='Density'>"
      ]
     },
     "execution_count": 23,
     "metadata": {},
     "output_type": "execute_result"
    },
    {
     "data": {
      "image/png": "[encoded data removed]",
      "text/plain": [
       "<Figure size 720x432 with 1 Axes>"
      ]
     },
     "metadata": {
      "needs_background": "light"
     },
     "output_type": "display_data"
    }
   ],
   "source": [
    "prob.plot(kind='kde',figsize=(10,6))"
   ]
  },
  {
   "cell_type": "code",
   "execution_count": 24,
   "id": "78ccf723",
   "metadata": {},
   "outputs": [],
   "source": [
    "prob = df['abstract_varieties'].value_counts(normalize=False)\n",
    "rare_dict = (prob <= 50).to_dict()\n",
    "rare_medium_dict  = ((prob <= 160) & (prob >50)).to_dict()\n",
    "medium_dict  = ((prob <=300) & (prob >160)).to_dict()\n",
    "rare_heigh_dict  = ((prob <= 400) & (prob >300)).to_dict()\n",
    "heigh_dict  = ((prob <= 550) & (prob >400)).to_dict()\n",
    "rare_extreme_dict  = ((prob <= 600) & (prob >550)).to_dict()\n",
    "extreme_dict = ((prob <= 800) & (prob >600)).to_dict()\n",
    "more_extreme_dict = ((prob <= 1000) & (prob >800)).to_dict()"
   ]
  },
  {
   "cell_type": "code",
   "execution_count": 25,
   "id": "2dd2a39a",
   "metadata": {},
   "outputs": [],
   "source": [
    "df['custom_varieties'] = df['abstract_varieties']"
   ]
  },
  {
   "cell_type": "code",
   "execution_count": 26,
   "id": "9684b74c",
   "metadata": {},
   "outputs": [],
   "source": [
    "df['custom_varieties']=df['custom_varieties'].apply(lambda x: \"rare\" if x in rare_dict.keys() and rare_dict[x] == True else x)\n",
    "df['custom_varieties']=df['custom_varieties'].apply(lambda x: \"rare medium\" if x in rare_medium_dict.keys() and rare_medium_dict[x] == True else x)\n",
    "df['custom_varieties']=df['custom_varieties'].apply(lambda x: \"medium\" if x in rare_medium_dict.keys() and medium_dict[x] == True else x)\n",
    "df['custom_varieties']=df['custom_varieties'].apply(lambda x: \"rare heigh\" if x in rare_heigh_dict.keys() and rare_heigh_dict[x] == True else x)\n",
    "df['custom_varieties']=df['custom_varieties'].apply(lambda x: \"high\" if x in heigh_dict.keys() and heigh_dict[x] == True else x)\n",
    "df['custom_varieties']=df['custom_varieties'].apply(lambda x: \"rare extreme\" if x in rare_extreme_dict.keys() and rare_extreme_dict[x] == True else x)\n",
    "df['custom_varieties']=df['custom_varieties'].apply(lambda x: \"extreme\" if x in extreme_dict.keys() and extreme_dict[x] == True else x)\n",
    "df['custom_varieties']=df['custom_varieties'].apply(lambda x: \"more extreme\" if x in more_extreme_dict.keys() and more_extreme_dict[x] == True else x)"
   ]
  },
  {
   "cell_type": "code",
   "execution_count": 27,
   "id": "bed0db4d",
   "metadata": {},
   "outputs": [
    {
     "data": {
      "text/html": [
       "<div>\n",
       "<style scoped>\n",
       "    .dataframe tbody tr th:only-of-type {\n",
       "        vertical-align: middle;\n",
       "    }\n",
       "\n",
       "    .dataframe tbody tr th {\n",
       "        vertical-align: top;\n",
       "    }\n",
       "\n",
       "    .dataframe thead th {\n",
       "        text-align: right;\n",
       "    }\n",
       "</style>\n",
       "<table border=\"1\" class=\"dataframe\">\n",
       "  <thead>\n",
       "    <tr style=\"text-align: right;\">\n",
       "      <th></th>\n",
       "      <th>description</th>\n",
       "      <th>variety</th>\n",
       "      <th>abstract_varieties</th>\n",
       "      <th>custom_varieties</th>\n",
       "    </tr>\n",
       "  </thead>\n",
       "  <tbody>\n",
       "    <tr>\n",
       "      <th>110368</th>\n",
       "      <td>Blended with 16% Sauvignon Blanc, this wine br...</td>\n",
       "      <td>Semillon</td>\n",
       "      <td>semillon</td>\n",
       "      <td>rare medium</td>\n",
       "    </tr>\n",
       "    <tr>\n",
       "      <th>102183</th>\n",
       "      <td>The gold luster is eye grabbing, and the nose ...</td>\n",
       "      <td>Chardonnay</td>\n",
       "      <td>chardonnay</td>\n",
       "      <td>chardonnay</td>\n",
       "    </tr>\n",
       "    <tr>\n",
       "      <th>118965</th>\n",
       "      <td>This gorgeous wine boasts alluring scents of f...</td>\n",
       "      <td>Red Blend</td>\n",
       "      <td>red blend</td>\n",
       "      <td>red blend</td>\n",
       "    </tr>\n",
       "    <tr>\n",
       "      <th>25956</th>\n",
       "      <td>Very impressive color, fruit concentration and...</td>\n",
       "      <td>Petite Sirah</td>\n",
       "      <td>petite sirah</td>\n",
       "      <td>extreme</td>\n",
       "    </tr>\n",
       "    <tr>\n",
       "      <th>25474</th>\n",
       "      <td>Made from Zinfandel, Carignane, Petite Sirah a...</td>\n",
       "      <td>Red Blend</td>\n",
       "      <td>red blend</td>\n",
       "      <td>red blend</td>\n",
       "    </tr>\n",
       "  </tbody>\n",
       "</table>\n",
       "</div>"
      ],
      "text/plain": [
       "                                              description       variety  \\\n",
       "110368  Blended with 16% Sauvignon Blanc, this wine br...      Semillon   \n",
       "102183  The gold luster is eye grabbing, and the nose ...    Chardonnay   \n",
       "118965  This gorgeous wine boasts alluring scents of f...     Red Blend   \n",
       "25956   Very impressive color, fruit concentration and...  Petite Sirah   \n",
       "25474   Made from Zinfandel, Carignane, Petite Sirah a...     Red Blend   \n",
       "\n",
       "       abstract_varieties custom_varieties  \n",
       "110368           semillon      rare medium  \n",
       "102183         chardonnay       chardonnay  \n",
       "118965          red blend        red blend  \n",
       "25956        petite sirah          extreme  \n",
       "25474           red blend        red blend  "
      ]
     },
     "execution_count": 27,
     "metadata": {},
     "output_type": "execute_result"
    }
   ],
   "source": [
    "df.sample(5)"
   ]
  },
  {
   "cell_type": "markdown",
   "id": "ca17ba9d",
   "metadata": {},
   "source": [
    "##### 2.3.1 Accumulative frequncy of top variables\n"
   ]
  },
  {
   "cell_type": "code",
   "execution_count": 28,
   "id": "d8c43078",
   "metadata": {
    "scrolled": true
   },
   "outputs": [],
   "source": [
    "# Accumulative frequncy of top variables\n",
    "\n",
    "# argsum=0\n",
    "# count=0\n",
    "# for i in df['custom_varieties'].value_counts(normalize=True):\n",
    "#     argsum+=i\n",
    "#     print(argsum*100)\n",
    "#     if(argsum<80):\n",
    "#         count+=1"
   ]
  },
  {
   "cell_type": "code",
   "execution_count": 29,
   "id": "badc2650",
   "metadata": {},
   "outputs": [
    {
     "data": {
      "text/plain": [
       "119964"
      ]
     },
     "execution_count": 29,
     "metadata": {},
     "output_type": "execute_result"
    }
   ],
   "source": [
    "df['custom_varieties'].value_counts().sum()"
   ]
  },
  {
   "cell_type": "code",
   "execution_count": null,
   "id": "adc7840b",
   "metadata": {},
   "outputs": [],
   "source": []
  },
  {
   "cell_type": "markdown",
   "id": "92d011b9",
   "metadata": {},
   "source": [
    "## 3. Preprocessing on \"Description\" column"
   ]
  },
  {
   "cell_type": "markdown",
   "id": "50a7f769",
   "metadata": {},
   "source": [
    "### 3.1 unicode to replace French alphabets"
   ]
  },
  {
   "cell_type": "code",
   "execution_count": 30,
   "id": "4a2875af",
   "metadata": {},
   "outputs": [],
   "source": [
    "df['description']=df['description'].apply(lambda x : unidecode(x))"
   ]
  },
  {
   "cell_type": "markdown",
   "id": "b3b27838",
   "metadata": {},
   "source": [
    "### 3.2 Basic text preprocessing"
   ]
  },
  {
   "cell_type": "code",
   "execution_count": 31,
   "id": "d81fd5b7",
   "metadata": {},
   "outputs": [],
   "source": [
    "def text_preprocess(text):\n",
    "    \n",
    "    # Decontracting words\n",
    "    # https://en.wikipedia.org/wiki/Wikipedia%3aList_of_English_contractions\n",
    "    # https://stackoverflow.com/a/19794953\n",
    "    contractions = { \n",
    "    \"ain't\": \"am not\",\n",
    "    \"aren't\": \"are not\",\n",
    "    \"can't\": \"can not\",\n",
    "    \"can't've\": \"can not have\",\n",
    "    \"'cause\": \"because\",\n",
    "    \"could've\": \"could have\",\n",
    "    \"couldn't\": \"could not\",\n",
    "    \"couldn't've\": \"could not have\",\n",
    "    \"didn't\": \"did not\",\n",
    "    \"doesn't\": \"does not\",\n",
    "    \"don't\": \"do not\",\n",
    "    \"hadn't\": \"had not\",\n",
    "    \"hadn't've\": \"had not have\",\n",
    "    \"hasn't\": \"has not\",\n",
    "    \"haven't\": \"have not\",\n",
    "    \"he'd\": \"he would\",\n",
    "    \"he'd've\": \"he would have\",\n",
    "    \"he'll\": \"he will\",\n",
    "    \"he'll've\": \"he will have\",\n",
    "    \"he's\": \"he is\",\n",
    "    \"how'd\": \"how did\",\n",
    "    \"how'd'y\": \"how do you\",\n",
    "    \"how'll\": \"how will\",\n",
    "    \"how's\": \"how is\",\n",
    "    \"i'd\": \"i would\",\n",
    "    \"i'd've\": \"i would have\",\n",
    "    \"i'll\": \"i will\",\n",
    "    \"i'll've\": \"i will have\",\n",
    "    \"i'm\": \"i am\",\n",
    "    \"i've\": \"i have\",\n",
    "    \"isn't\": \"is not\",\n",
    "    \"it'd\": \"it would\",\n",
    "    \"it'd've\": \"it would have\",\n",
    "    \"it'll\": \"it will\",\n",
    "    \"it'll've\": \"it will have\",\n",
    "    \"it's\": \"it is\",\n",
    "    \"let's\": \"let us\",\n",
    "    \"ma'am\": \"madam\",\n",
    "    \"mayn't\": \"may not\",\n",
    "    \"might've\": \"might have\",\n",
    "    \"mightn't\": \"might not\",\n",
    "    \"mightn't've\": \"might not have\",\n",
    "    \"must've\": \"must have\",\n",
    "    \"mustn't\": \"must not\",\n",
    "    \"mustn't've\": \"must not have\",\n",
    "    \"needn't\": \"need not\",\n",
    "    \"needn't've\": \"need not have\",\n",
    "    \"o'clock\": \"of the clock\",\n",
    "    \"oughtn't\": \"ought not\",\n",
    "    \"oughtn't've\": \"ought not have\",\n",
    "    \"shan't\": \"shall not\",\n",
    "    \"sha'n't\": \"shall not\",\n",
    "    \"shan't've\": \"shall not have\",\n",
    "    \"she'd\": \"she would\",\n",
    "    \"she'd've\": \"she would have\",\n",
    "    \"she'll\": \"she will\",\n",
    "    \"she'll've\": \"she will have\",\n",
    "    \"she's\": \"she is\",\n",
    "    \"should've\": \"should have\",\n",
    "    \"shouldn't\": \"should not\",\n",
    "    \"shouldn't've\": \"should not have\",\n",
    "    \"so've\": \"so have\",\n",
    "    \"so's\": \"so as\",\n",
    "    \"that'd\": \"that would\",\n",
    "    \"that'd've\": \"that would have\",\n",
    "    \"that's\": \"that is\",\n",
    "    \"there'd\": \"there would\",\n",
    "    \"there'd've\": \"there would have\",\n",
    "    \"there's\": \"there is\",\n",
    "    \"they'd\": \"they would\",\n",
    "    \"they'd've\": \"they would have\",\n",
    "    \"they'll\": \"they will\",\n",
    "    \"they'll've\": \"they will have\",\n",
    "    \"they're\": \"they are\",\n",
    "    \"they've\": \"they have\",\n",
    "    \"to've\": \"to have\",\n",
    "    \"wasn't\": \"was not\",\n",
    "    \"we'd\": \"we would\",\n",
    "    \"we'd've\": \"we would have\",\n",
    "    \"we'll\": \"we will\",\n",
    "    \"we'll've\": \"we will have\",\n",
    "    \"we're\": \"we are\",\n",
    "    \"we've\": \"we have\",\n",
    "    \"weren't\": \"were not\",\n",
    "    \"what'll\": \"what will\",\n",
    "    \"what'll've\": \"what will have\",\n",
    "    \"what're\": \"what are\",\n",
    "    \"what's\": \"what is\",\n",
    "    \"what've\": \"what have\",\n",
    "    \"when's\": \"when is\",\n",
    "    \"when've\": \"when have\",\n",
    "    \"where'd\": \"where did\",\n",
    "    \"where's\": \"where is\",\n",
    "    \"where've\": \"where have\",\n",
    "    \"who'll\": \"who will\",\n",
    "    \"who'll've\": \"who will have\",\n",
    "    \"who's\": \"who is\",\n",
    "    \"who've\": \"who have\",\n",
    "    \"why's\": \"why is\",\n",
    "    \"why've\": \"why have\",\n",
    "    \"will've\": \"will have\",\n",
    "    \"won't\": \"will not\",\n",
    "    \"won't've\": \"will not have\",\n",
    "    \"would've\": \"would have\",\n",
    "    \"wouldn't\": \"would not\",\n",
    "    \"wouldn't've\": \"would not have\",\n",
    "    \"y'all\": \"you all\",\n",
    "    \"y'all'd\": \"you all would\",\n",
    "    \"y'all'd've\": \"you all would have\",\n",
    "    \"y'all're\": \"you all are\",\n",
    "    \"y'all've\": \"you all have\",\n",
    "    \"you'd\": \"you would\",\n",
    "    \"you'd've\": \"you would have\",\n",
    "    \"you'll\": \"you will\",\n",
    "    \"you'll've\": \"you will have\",\n",
    "    \"you're\": \"you are\",\n",
    "    \"you've\": \"you have\"\n",
    "    }\n",
    "\n",
    "    text_decontracted = []\n",
    "\n",
    "    for word in text.split():\n",
    "        if word in contractions:\n",
    "            word = contractions[word]\n",
    "\n",
    "        text_decontracted.append(word)\n",
    "\n",
    "    text = ' '.join(text_decontracted)\n",
    "    text = text.replace(\"'ve\", \" have\")\n",
    "    text = text.replace(\"n't\", \" not\")\n",
    "    text = text.replace(\"'re\", \" are\")\n",
    "    text = text.replace(\"'ll\", \" will\")\n",
    "    \n",
    "    # Removing HTML tags if any\n",
    "    text = BeautifulSoup(text)\n",
    "    text = text.get_text()\n",
    "    \n",
    "    # Remove punctuations\n",
    "    pattern = re.compile('\\W')\n",
    "    text = re.sub(pattern, ' ', text).strip()\n",
    "\n",
    "    \n",
    "    return text\n",
    "    "
   ]
  },
  {
   "cell_type": "code",
   "execution_count": 32,
   "id": "51406fb1",
   "metadata": {},
   "outputs": [],
   "source": [
    "df['description']=df['description'].apply(text_preprocess)"
   ]
  },
  {
   "cell_type": "markdown",
   "id": "c5d124e1",
   "metadata": {},
   "source": [
    "### 3.3 Removing stopwords"
   ]
  },
  {
   "cell_type": "code",
   "execution_count": 33,
   "id": "1b5cbafa",
   "metadata": {},
   "outputs": [],
   "source": [
    "df['description']=df['description'].apply(lambda x: \" \".join([word for word in x.split() if word not in stopwords_dict]))"
   ]
  },
  {
   "cell_type": "code",
   "execution_count": 34,
   "id": "ac73b04d",
   "metadata": {},
   "outputs": [
    {
     "data": {
      "text/plain": [
       "17069    This ripe fruity wine tannins generous black f...\n",
       "Name: description, dtype: object"
      ]
     },
     "execution_count": 34,
     "metadata": {},
     "output_type": "execute_result"
    }
   ],
   "source": [
    "df['description'].sample()"
   ]
  },
  {
   "cell_type": "markdown",
   "id": "33748f98",
   "metadata": {},
   "source": [
    "### 3.4 Stemming"
   ]
  },
  {
   "cell_type": "code",
   "execution_count": 35,
   "id": "b09e29df",
   "metadata": {},
   "outputs": [],
   "source": [
    "nlp= spacy.load('en_core_web_sm')\n",
    "\n",
    "ps = PorterStemmer()"
   ]
  },
  {
   "cell_type": "code",
   "execution_count": 36,
   "id": "4d404fd1",
   "metadata": {},
   "outputs": [],
   "source": [
    "def stem_words_nltk(text):\n",
    "    return \" \".join([ps.stem(word) for word in word_tokenize(text)])"
   ]
  },
  {
   "cell_type": "code",
   "execution_count": 37,
   "id": "8a41f9d8",
   "metadata": {},
   "outputs": [],
   "source": [
    "df['description']=df['description'].apply(stem_words_nltk)"
   ]
  },
  {
   "cell_type": "code",
   "execution_count": 38,
   "id": "ebc51697",
   "metadata": {},
   "outputs": [
    {
     "data": {
      "text/html": [
       "<div>\n",
       "<style scoped>\n",
       "    .dataframe tbody tr th:only-of-type {\n",
       "        vertical-align: middle;\n",
       "    }\n",
       "\n",
       "    .dataframe tbody tr th {\n",
       "        vertical-align: top;\n",
       "    }\n",
       "\n",
       "    .dataframe thead th {\n",
       "        text-align: right;\n",
       "    }\n",
       "</style>\n",
       "<table border=\"1\" class=\"dataframe\">\n",
       "  <thead>\n",
       "    <tr style=\"text-align: right;\">\n",
       "      <th></th>\n",
       "      <th>description</th>\n",
       "      <th>variety</th>\n",
       "      <th>abstract_varieties</th>\n",
       "      <th>custom_varieties</th>\n",
       "    </tr>\n",
       "  </thead>\n",
       "  <tbody>\n",
       "    <tr>\n",
       "      <th>69719</th>\n",
       "      <td>aroma green appl tuberos whiff bread crust mel...</td>\n",
       "      <td>Cortese</td>\n",
       "      <td>cortese</td>\n",
       "      <td>rare medium</td>\n",
       "    </tr>\n",
       "    <tr>\n",
       "      <th>92976</th>\n",
       "      <td>made 100 merlot grape boast ripe red berri cas...</td>\n",
       "      <td>Merlot</td>\n",
       "      <td>merlot</td>\n",
       "      <td>merlot</td>\n",
       "    </tr>\n",
       "    <tr>\n",
       "      <th>68461</th>\n",
       "      <td>juici medium bodi wine vibrantli craft balanc ...</td>\n",
       "      <td>Chardonnay</td>\n",
       "      <td>chardonnay</td>\n",
       "      <td>chardonnay</td>\n",
       "    </tr>\n",
       "    <tr>\n",
       "      <th>839</th>\n",
       "      <td>blossom yellow cherri lend sweet floral flair ...</td>\n",
       "      <td>Riesling</td>\n",
       "      <td>riesling</td>\n",
       "      <td>riesling</td>\n",
       "    </tr>\n",
       "    <tr>\n",
       "      <th>107193</th>\n",
       "      <td>a blend 57 graciano 43 tempranillo rich soft w...</td>\n",
       "      <td>Tempranillo Blend</td>\n",
       "      <td>tempranillo blend</td>\n",
       "      <td>rare extreme</td>\n",
       "    </tr>\n",
       "    <tr>\n",
       "      <th>117218</th>\n",
       "      <td>there strong miner backbon wine alongsid note ...</td>\n",
       "      <td>Rhone style Red Blend</td>\n",
       "      <td>red blend</td>\n",
       "      <td>red blend</td>\n",
       "    </tr>\n",
       "    <tr>\n",
       "      <th>39327</th>\n",
       "      <td>thi begin round lush scent honey butter hot to...</td>\n",
       "      <td>Chardonnay</td>\n",
       "      <td>chardonnay</td>\n",
       "      <td>chardonnay</td>\n",
       "    </tr>\n",
       "    <tr>\n",
       "      <th>93292</th>\n",
       "      <td>the acid dryness miner sonoma coast wine water...</td>\n",
       "      <td>Chardonnay</td>\n",
       "      <td>chardonnay</td>\n",
       "      <td>chardonnay</td>\n",
       "    </tr>\n",
       "    <tr>\n",
       "      <th>95661</th>\n",
       "      <td>thi round wine add rich herbac charact appl qu...</td>\n",
       "      <td>Sauvignon Blanc</td>\n",
       "      <td>cabernet sauvignon</td>\n",
       "      <td>cabernet sauvignon</td>\n",
       "    </tr>\n",
       "    <tr>\n",
       "      <th>100751</th>\n",
       "      <td>thi fraternidad best wine mile cherri blackber...</td>\n",
       "      <td>Red Blend</td>\n",
       "      <td>red blend</td>\n",
       "      <td>red blend</td>\n",
       "    </tr>\n",
       "  </tbody>\n",
       "</table>\n",
       "</div>"
      ],
      "text/plain": [
       "                                              description  \\\n",
       "69719   aroma green appl tuberos whiff bread crust mel...   \n",
       "92976   made 100 merlot grape boast ripe red berri cas...   \n",
       "68461   juici medium bodi wine vibrantli craft balanc ...   \n",
       "839     blossom yellow cherri lend sweet floral flair ...   \n",
       "107193  a blend 57 graciano 43 tempranillo rich soft w...   \n",
       "117218  there strong miner backbon wine alongsid note ...   \n",
       "39327   thi begin round lush scent honey butter hot to...   \n",
       "93292   the acid dryness miner sonoma coast wine water...   \n",
       "95661   thi round wine add rich herbac charact appl qu...   \n",
       "100751  thi fraternidad best wine mile cherri blackber...   \n",
       "\n",
       "                      variety  abstract_varieties    custom_varieties  \n",
       "69719                 Cortese             cortese         rare medium  \n",
       "92976                  Merlot              merlot              merlot  \n",
       "68461              Chardonnay          chardonnay          chardonnay  \n",
       "839                  Riesling            riesling            riesling  \n",
       "107193      Tempranillo Blend   tempranillo blend        rare extreme  \n",
       "117218  Rhone style Red Blend           red blend           red blend  \n",
       "39327              Chardonnay          chardonnay          chardonnay  \n",
       "93292              Chardonnay          chardonnay          chardonnay  \n",
       "95661         Sauvignon Blanc  cabernet sauvignon  cabernet sauvignon  \n",
       "100751              Red Blend           red blend           red blend  "
      ]
     },
     "execution_count": 38,
     "metadata": {},
     "output_type": "execute_result"
    }
   ],
   "source": [
    "df.sample(10)"
   ]
  },
  {
   "cell_type": "code",
   "execution_count": null,
   "id": "fff96d11",
   "metadata": {},
   "outputs": [],
   "source": []
  },
  {
   "cell_type": "markdown",
   "id": "2c64c0a4",
   "metadata": {},
   "source": [
    "## 4. Creating advance features"
   ]
  },
  {
   "cell_type": "code",
   "execution_count": 56,
   "id": "ab995d8c",
   "metadata": {},
   "outputs": [
    {
     "data": {
      "text/html": [
       "<div>\n",
       "<style scoped>\n",
       "    .dataframe tbody tr th:only-of-type {\n",
       "        vertical-align: middle;\n",
       "    }\n",
       "\n",
       "    .dataframe tbody tr th {\n",
       "        vertical-align: top;\n",
       "    }\n",
       "\n",
       "    .dataframe thead th {\n",
       "        text-align: right;\n",
       "    }\n",
       "</style>\n",
       "<table border=\"1\" class=\"dataframe\">\n",
       "  <thead>\n",
       "    <tr style=\"text-align: right;\">\n",
       "      <th></th>\n",
       "      <th>description</th>\n",
       "      <th>variety</th>\n",
       "      <th>abstract_varieties</th>\n",
       "      <th>custom_varieties</th>\n",
       "    </tr>\n",
       "  </thead>\n",
       "  <tbody>\n",
       "    <tr>\n",
       "      <th>1133</th>\n",
       "      <td>Too enthusiastic use wood left wine bereft fru...</td>\n",
       "      <td>Bordeaux style Red Blend</td>\n",
       "      <td>red blend</td>\n",
       "      <td>red blend</td>\n",
       "    </tr>\n",
       "    <tr>\n",
       "      <th>1276</th>\n",
       "      <td>Rugged astringent texture jammy blackberry spi...</td>\n",
       "      <td>Cabernet Sauvignon</td>\n",
       "      <td>cabernet sauvignon</td>\n",
       "      <td>cabernet sauvignon</td>\n",
       "    </tr>\n",
       "    <tr>\n",
       "      <th>1712</th>\n",
       "      <td>Seems almost sweet cherry chocolate flavors do...</td>\n",
       "      <td>Shiraz Viognier</td>\n",
       "      <td>shiraz viognier</td>\n",
       "      <td>rare</td>\n",
       "    </tr>\n",
       "    <tr>\n",
       "      <th>2621</th>\n",
       "      <td>Harsh hot chili pepper mint thinned blackberry...</td>\n",
       "      <td>Cabernet Sauvignon</td>\n",
       "      <td>cabernet sauvignon</td>\n",
       "      <td>cabernet sauvignon</td>\n",
       "    </tr>\n",
       "    <tr>\n",
       "      <th>2623</th>\n",
       "      <td>Soft sweet canned apricot syrupy peach flavors</td>\n",
       "      <td>Pinot Grigio</td>\n",
       "      <td>pinot grigio</td>\n",
       "      <td>more extreme</td>\n",
       "    </tr>\n",
       "    <tr>\n",
       "      <th>...</th>\n",
       "      <td>...</td>\n",
       "      <td>...</td>\n",
       "      <td>...</td>\n",
       "      <td>...</td>\n",
       "    </tr>\n",
       "    <tr>\n",
       "      <th>127165</th>\n",
       "      <td>This soft simple flavors cherry cola earth</td>\n",
       "      <td>Pinot Noir</td>\n",
       "      <td>pinot noir</td>\n",
       "      <td>pinot noir</td>\n",
       "    </tr>\n",
       "    <tr>\n",
       "      <th>127173</th>\n",
       "      <td>Simple sweet like mixture watermelon lemonade ...</td>\n",
       "      <td>Rose</td>\n",
       "      <td>rose</td>\n",
       "      <td>rose</td>\n",
       "    </tr>\n",
       "    <tr>\n",
       "      <th>127176</th>\n",
       "      <td>This peach flavored wine sweet honey brisk aci...</td>\n",
       "      <td>White Blend</td>\n",
       "      <td>white blend</td>\n",
       "      <td>white blend</td>\n",
       "    </tr>\n",
       "    <tr>\n",
       "      <th>127177</th>\n",
       "      <td>Sour thin green mint cherry spice flavors</td>\n",
       "      <td>Cabernet Sauvignon</td>\n",
       "      <td>cabernet sauvignon</td>\n",
       "      <td>cabernet sauvignon</td>\n",
       "    </tr>\n",
       "    <tr>\n",
       "      <th>127178</th>\n",
       "      <td>Harsh mouth sharp acidity uneven tannins candi...</td>\n",
       "      <td>Zinfandel</td>\n",
       "      <td>zinfandel</td>\n",
       "      <td>zinfandel</td>\n",
       "    </tr>\n",
       "  </tbody>\n",
       "</table>\n",
       "<p>314 rows × 4 columns</p>\n",
       "</div>"
      ],
      "text/plain": [
       "                                              description  \\\n",
       "1133    Too enthusiastic use wood left wine bereft fru...   \n",
       "1276    Rugged astringent texture jammy blackberry spi...   \n",
       "1712    Seems almost sweet cherry chocolate flavors do...   \n",
       "2621    Harsh hot chili pepper mint thinned blackberry...   \n",
       "2623       Soft sweet canned apricot syrupy peach flavors   \n",
       "...                                                   ...   \n",
       "127165         This soft simple flavors cherry cola earth   \n",
       "127173  Simple sweet like mixture watermelon lemonade ...   \n",
       "127176  This peach flavored wine sweet honey brisk aci...   \n",
       "127177          Sour thin green mint cherry spice flavors   \n",
       "127178  Harsh mouth sharp acidity uneven tannins candi...   \n",
       "\n",
       "                         variety  abstract_varieties    custom_varieties  \n",
       "1133    Bordeaux style Red Blend           red blend           red blend  \n",
       "1276          Cabernet Sauvignon  cabernet sauvignon  cabernet sauvignon  \n",
       "1712             Shiraz Viognier     shiraz viognier                rare  \n",
       "2621          Cabernet Sauvignon  cabernet sauvignon  cabernet sauvignon  \n",
       "2623                Pinot Grigio        pinot grigio        more extreme  \n",
       "...                          ...                 ...                 ...  \n",
       "127165                Pinot Noir          pinot noir          pinot noir  \n",
       "127173                      Rose                rose                rose  \n",
       "127176               White Blend         white blend         white blend  \n",
       "127177        Cabernet Sauvignon  cabernet sauvignon  cabernet sauvignon  \n",
       "127178                 Zinfandel           zinfandel           zinfandel  \n",
       "\n",
       "[314 rows x 4 columns]"
      ]
     },
     "execution_count": 56,
     "metadata": {},
     "output_type": "execute_result"
    }
   ],
   "source": [
    "# df.loc[df['description'].apply(lambda x: len(x.split())<10)]"
   ]
  },
  {
   "cell_type": "code",
   "execution_count": 39,
   "id": "725aafc9",
   "metadata": {},
   "outputs": [],
   "source": [
    "df.drop(columns=['variety','abstract_varieties'],inplace=True)"
   ]
  },
  {
   "cell_type": "code",
   "execution_count": 40,
   "id": "4ae80765",
   "metadata": {},
   "outputs": [
    {
     "data": {
      "text/html": [
       "<div>\n",
       "<style scoped>\n",
       "    .dataframe tbody tr th:only-of-type {\n",
       "        vertical-align: middle;\n",
       "    }\n",
       "\n",
       "    .dataframe tbody tr th {\n",
       "        vertical-align: top;\n",
       "    }\n",
       "\n",
       "    .dataframe thead th {\n",
       "        text-align: right;\n",
       "    }\n",
       "</style>\n",
       "<table border=\"1\" class=\"dataframe\">\n",
       "  <thead>\n",
       "    <tr style=\"text-align: right;\">\n",
       "      <th></th>\n",
       "      <th>description</th>\n",
       "      <th>custom_varieties</th>\n",
       "    </tr>\n",
       "  </thead>\n",
       "  <tbody>\n",
       "    <tr>\n",
       "      <th>127806</th>\n",
       "      <td>with touch earth integr dark cherri flavor est...</td>\n",
       "      <td>pinot noir</td>\n",
       "    </tr>\n",
       "    <tr>\n",
       "      <th>77735</th>\n",
       "      <td>age 22 month french oak one third new 67 caber...</td>\n",
       "      <td>red blend</td>\n",
       "    </tr>\n",
       "    <tr>\n",
       "      <th>27834</th>\n",
       "      <td>cool climat pyrazin aroma punchi felin thi fee...</td>\n",
       "      <td>cabernet sauvignon</td>\n",
       "    </tr>\n",
       "  </tbody>\n",
       "</table>\n",
       "</div>"
      ],
      "text/plain": [
       "                                              description    custom_varieties\n",
       "127806  with touch earth integr dark cherri flavor est...          pinot noir\n",
       "77735   age 22 month french oak one third new 67 caber...           red blend\n",
       "27834   cool climat pyrazin aroma punchi felin thi fee...  cabernet sauvignon"
      ]
     },
     "execution_count": 40,
     "metadata": {},
     "output_type": "execute_result"
    }
   ],
   "source": [
    "df.sample(3)"
   ]
  },
  {
   "cell_type": "markdown",
   "id": "509bd5dc",
   "metadata": {},
   "source": [
    "## 5 Binarization of Target column"
   ]
  },
  {
   "cell_type": "markdown",
   "id": "c0b3ddb2",
   "metadata": {},
   "source": [
    "### 5.1 Label Encoding"
   ]
  },
  {
   "cell_type": "code",
   "execution_count": 41,
   "id": "c608d30b",
   "metadata": {},
   "outputs": [],
   "source": [
    "from sklearn.preprocessing import LabelEncoder"
   ]
  },
  {
   "cell_type": "code",
   "execution_count": 276,
   "id": "e3004866",
   "metadata": {},
   "outputs": [],
   "source": [
    "labelencoder= LabelEncoder()"
   ]
  },
  {
   "cell_type": "code",
   "execution_count": 278,
   "id": "7d1ade08",
   "metadata": {},
   "outputs": [],
   "source": [
    "y=labelencoder.fit_transform(df['custom_varieties'])"
   ]
  },
  {
   "cell_type": "code",
   "execution_count": 280,
   "id": "7450df37",
   "metadata": {},
   "outputs": [
    {
     "data": {
      "text/plain": [
       "array(['cabernet sauvignon', 'champagne blend', 'chardonnay', 'extreme',\n",
       "       'gruner veltliner', 'high', 'malbec', 'medium', 'merlot',\n",
       "       'more extreme', 'nebbiolo', 'pinot gris', 'pinot noir',\n",
       "       'portuguese red', 'portuguese white', 'rare', 'rare extreme',\n",
       "       'rare heigh', 'rare medium', 'red blend', 'riesling', 'rose',\n",
       "       'sangiovese', 'sparkling blend', 'syrah', 'tempranillo',\n",
       "       'white blend', 'zinfandel'], dtype=object)"
      ]
     },
     "execution_count": 280,
     "metadata": {},
     "output_type": "execute_result"
    }
   ],
   "source": [
    "labelencoder.classes_"
   ]
  },
  {
   "cell_type": "markdown",
   "id": "81e70132",
   "metadata": {},
   "source": [
    "### 5.2 OneHotEncoding "
   ]
  },
  {
   "cell_type": "code",
   "execution_count": 42,
   "id": "b8545614",
   "metadata": {},
   "outputs": [],
   "source": [
    "from sklearn.preprocessing import OneHotEncoder"
   ]
  },
  {
   "cell_type": "code",
   "execution_count": 43,
   "id": "4d41ac66",
   "metadata": {},
   "outputs": [],
   "source": [
    "ohe = OneHotEncoder()"
   ]
  },
  {
   "cell_type": "code",
   "execution_count": 44,
   "id": "202e41c6",
   "metadata": {},
   "outputs": [],
   "source": [
    "ohe_y=ohe.fit_transform(df['custom_varieties'].values.reshape(-1,1)).todense()"
   ]
  },
  {
   "cell_type": "code",
   "execution_count": 111,
   "id": "501cc258",
   "metadata": {},
   "outputs": [],
   "source": [
    "pickle.dump(ohe,open('ohe.pkl','wb'))"
   ]
  },
  {
   "cell_type": "code",
   "execution_count": 45,
   "id": "54a2a609",
   "metadata": {},
   "outputs": [
    {
     "data": {
      "text/plain": [
       "[array(['cabernet sauvignon', 'champagne blend', 'chardonnay', 'extreme',\n",
       "        'gruner veltliner', 'high', 'malbec', 'medium', 'merlot',\n",
       "        'more extreme', 'nebbiolo', 'pinot gris', 'pinot noir',\n",
       "        'portuguese red', 'portuguese white', 'rare', 'rare extreme',\n",
       "        'rare heigh', 'rare medium', 'red blend', 'riesling', 'rose',\n",
       "        'sangiovese', 'sparkling blend', 'syrah', 'tempranillo',\n",
       "        'white blend', 'zinfandel'], dtype=object)]"
      ]
     },
     "execution_count": 45,
     "metadata": {},
     "output_type": "execute_result"
    }
   ],
   "source": [
    "ohe.categories_"
   ]
  },
  {
   "cell_type": "code",
   "execution_count": 112,
   "id": "cdfe2e0f",
   "metadata": {},
   "outputs": [
    {
     "data": {
      "text/plain": [
       "matrix([[0., 0., 0., ..., 0., 1., 0.],\n",
       "        [0., 0., 0., ..., 0., 0., 0.],\n",
       "        [0., 0., 0., ..., 0., 0., 0.],\n",
       "        ...,\n",
       "        [0., 0., 0., ..., 0., 0., 0.],\n",
       "        [0., 0., 0., ..., 0., 0., 0.],\n",
       "        [0., 0., 0., ..., 0., 0., 0.]])"
      ]
     },
     "execution_count": 112,
     "metadata": {},
     "output_type": "execute_result"
    }
   ],
   "source": [
    "ohe_y"
   ]
  },
  {
   "cell_type": "code",
   "execution_count": 46,
   "id": "88d4fe44",
   "metadata": {},
   "outputs": [
    {
     "data": {
      "text/plain": [
       "(119964, 28)"
      ]
     },
     "execution_count": 46,
     "metadata": {},
     "output_type": "execute_result"
    }
   ],
   "source": [
    "ohe_y.shape"
   ]
  },
  {
   "cell_type": "markdown",
   "id": "a56cebff",
   "metadata": {},
   "source": [
    "## 6. Vectorization"
   ]
  },
  {
   "cell_type": "markdown",
   "id": "2902bff6",
   "metadata": {},
   "source": [
    "### 6.1 vectorization using n-gram"
   ]
  },
  {
   "cell_type": "code",
   "execution_count": 47,
   "id": "b7a0683d",
   "metadata": {},
   "outputs": [],
   "source": [
    "from sklearn.feature_extraction.text import CountVectorizer"
   ]
  },
  {
   "cell_type": "code",
   "execution_count": 88,
   "id": "c9236435",
   "metadata": {},
   "outputs": [],
   "source": [
    "bi_gram = CountVectorizer(max_features=3000,ngram_range=(2,2))\n",
    "df_bigram=bi_gram.fit_transform(df['description'])"
   ]
  },
  {
   "cell_type": "markdown",
   "id": "defe9788",
   "metadata": {},
   "source": [
    "### 6.2 vectorization using tf-idf"
   ]
  },
  {
   "cell_type": "code",
   "execution_count": 271,
   "id": "dd564cbd",
   "metadata": {},
   "outputs": [],
   "source": []
  },
  {
   "cell_type": "code",
   "execution_count": 48,
   "id": "ed6283a7",
   "metadata": {},
   "outputs": [],
   "source": [
    "from sklearn.feature_extraction.text import TfidfVectorizer"
   ]
  },
  {
   "cell_type": "code",
   "execution_count": 49,
   "id": "1b10792c",
   "metadata": {},
   "outputs": [],
   "source": [
    "tfidf=TfidfVectorizer(decode_error='ignore')"
   ]
  },
  {
   "cell_type": "code",
   "execution_count": 50,
   "id": "8f836575",
   "metadata": {},
   "outputs": [],
   "source": [
    "df_tfidf= tfidf.fit_transform(df['description'])"
   ]
  },
  {
   "cell_type": "code",
   "execution_count": 51,
   "id": "33956ddb",
   "metadata": {},
   "outputs": [],
   "source": [
    "import pickle"
   ]
  },
  {
   "cell_type": "code",
   "execution_count": 54,
   "id": "7bb3fa10",
   "metadata": {},
   "outputs": [],
   "source": [
    "pickle.dump(tfidf,open(\"tfidf.pkl\",\"wb\"))"
   ]
  },
  {
   "cell_type": "code",
   "execution_count": null,
   "id": "100962cb",
   "metadata": {},
   "outputs": [],
   "source": []
  },
  {
   "cell_type": "markdown",
   "id": "5286a83e",
   "metadata": {},
   "source": [
    "### 6.3 Train test split"
   ]
  },
  {
   "cell_type": "code",
   "execution_count": 55,
   "id": "0ae21aec",
   "metadata": {},
   "outputs": [],
   "source": [
    "from sklearn.model_selection import train_test_split"
   ]
  },
  {
   "cell_type": "code",
   "execution_count": 95,
   "id": "4909f7a0",
   "metadata": {},
   "outputs": [],
   "source": [
    "#bi-gram\n",
    "X_train1,X_test1,y_train1,y_test1= train_test_split(df_bigram,\n",
    "                                                y,\n",
    "                                                random_state=2,\n",
    "                                                test_size=0.2)"
   ]
  },
  {
   "cell_type": "code",
   "execution_count": 233,
   "id": "b5a4b3e6",
   "metadata": {},
   "outputs": [],
   "source": [
    "#tf_idf\n",
    "X_train2,X_test2,y_train2,y_test2= train_test_split(df_tfidf,\n",
    "                                                y,\n",
    "                                                random_state=2,\n",
    "                                                test_size=0.2)"
   ]
  },
  {
   "cell_type": "code",
   "execution_count": 56,
   "id": "770007b5",
   "metadata": {},
   "outputs": [
    {
     "data": {
      "text/plain": [
       "(119964, 22471)"
      ]
     },
     "execution_count": 56,
     "metadata": {},
     "output_type": "execute_result"
    }
   ],
   "source": [
    "df_tfidf.shape"
   ]
  },
  {
   "cell_type": "code",
   "execution_count": 57,
   "id": "d1181b4e",
   "metadata": {},
   "outputs": [],
   "source": [
    "#tf_idf with ohe\n",
    "X_train3,X_test3,y_train3,y_test3= train_test_split(df_tfidf,\n",
    "                                                ohe_y,\n",
    "                                                random_state=20,\n",
    "                                                test_size=0.2)"
   ]
  },
  {
   "cell_type": "markdown",
   "id": "9d09b08b",
   "metadata": {},
   "source": [
    "### 6.4 Logistic Regression"
   ]
  },
  {
   "cell_type": "code",
   "execution_count": 139,
   "id": "ba99a934",
   "metadata": {},
   "outputs": [],
   "source": [
    "from sklearn.multiclass import OneVsRestClassifier\n",
    "from sklearn.linear_model import LogisticRegression"
   ]
  },
  {
   "cell_type": "code",
   "execution_count": 140,
   "id": "287a2b50",
   "metadata": {},
   "outputs": [],
   "source": [
    "def train_classifier(X_train, y_train, C, regularisation):\n",
    "    \n",
    "    model = OneVsRestClassifier(LogisticRegression(penalty=regularisation, C=C, max_iter=10000)).fit(X_train, y_train)\n",
    "    return model"
   ]
  },
  {
   "cell_type": "code",
   "execution_count": 142,
   "id": "ef4ccd45",
   "metadata": {},
   "outputs": [],
   "source": [
    "classifier_tfidf = train_classifier(X_train3, y_train3, C = 4, regularisation = 'l2')"
   ]
  },
  {
   "cell_type": "code",
   "execution_count": 143,
   "id": "ee074799",
   "metadata": {},
   "outputs": [],
   "source": [
    "y_predicted_labels_tfidf = classifier_tfidf.predict(X_test3)"
   ]
  },
  {
   "cell_type": "code",
   "execution_count": 146,
   "id": "daacd117",
   "metadata": {},
   "outputs": [
    {
     "name": "stdout",
     "output_type": "stream",
     "text": [
      "Accuracy:  0.420414287500521\n"
     ]
    }
   ],
   "source": [
    "print('Accuracy: ', accuracy_score(y_test3, y_predicted_labels_tfidf, normalize=True))"
   ]
  },
  {
   "cell_type": "markdown",
   "id": "4506dfa7",
   "metadata": {},
   "source": [
    "### 6.5 RandomForest"
   ]
  },
  {
   "cell_type": "code",
   "execution_count": 97,
   "id": "57112815",
   "metadata": {},
   "outputs": [],
   "source": [
    "from sklearn.ensemble import RandomForestClassifier\n",
    "from sklearn.metrics import accuracy_score"
   ]
  },
  {
   "cell_type": "markdown",
   "id": "d8bb6fb1",
   "metadata": {},
   "source": [
    "##### 6.5.1 Results with Bi-gram"
   ]
  },
  {
   "cell_type": "code",
   "execution_count": 98,
   "id": "824f25dd",
   "metadata": {},
   "outputs": [
    {
     "data": {
      "text/plain": [
       "0.3766515233609803"
      ]
     },
     "execution_count": 98,
     "metadata": {},
     "output_type": "execute_result"
    }
   ],
   "source": [
    "#bi-grams\n",
    "rf = RandomForestClassifier()\n",
    "rf.fit(X_train1,y_train1)\n",
    "y_pred1 = rf.predict(X_test1)\n",
    "accuracy_score(y_test1,y_pred1)"
   ]
  },
  {
   "cell_type": "markdown",
   "id": "d300d30f",
   "metadata": {},
   "source": [
    "##### 6.5.2 Results with TF-IDF"
   ]
  },
  {
   "cell_type": "code",
   "execution_count": 99,
   "id": "da234ce6",
   "metadata": {},
   "outputs": [
    {
     "data": {
      "text/plain": [
       "0.5532863751927646"
      ]
     },
     "execution_count": 99,
     "metadata": {},
     "output_type": "execute_result"
    }
   ],
   "source": [
    "#tfidf-grams\n",
    "rf = RandomForestClassifier()\n",
    "rf.fit(X_train2,y_train2)\n",
    "y_pred2 = rf.predict(X_test2)\n",
    "accuracy_score(y_test2,y_pred2)"
   ]
  },
  {
   "cell_type": "markdown",
   "id": "8ab433a0",
   "metadata": {},
   "source": [
    "### 6.6 XGBoost"
   ]
  },
  {
   "cell_type": "code",
   "execution_count": 100,
   "id": "10f5d02b",
   "metadata": {},
   "outputs": [],
   "source": [
    "from xgboost import XGBClassifier\n",
    "xgb = XGBClassifier()"
   ]
  },
  {
   "cell_type": "markdown",
   "id": "d3890443",
   "metadata": {},
   "source": [
    "##### 6.6.1 Results with Bi-gram"
   ]
  },
  {
   "cell_type": "code",
   "execution_count": 101,
   "id": "0aad60d9",
   "metadata": {},
   "outputs": [
    {
     "data": {
      "text/plain": [
       "0.4094944358771308"
      ]
     },
     "execution_count": 101,
     "metadata": {},
     "output_type": "execute_result"
    }
   ],
   "source": [
    "#bi_gram\n",
    "xgb.fit(X_train1,y_train1)\n",
    "y_pred1 = xgb.predict(X_test1)\n",
    "accuracy_score(y_test1,y_pred1)"
   ]
  },
  {
   "cell_type": "markdown",
   "id": "39df4e72",
   "metadata": {},
   "source": [
    "##### 6.6.2 Results with Bi-gram"
   ]
  },
  {
   "cell_type": "code",
   "execution_count": 102,
   "id": "6b075f58",
   "metadata": {},
   "outputs": [
    {
     "data": {
      "text/plain": [
       "0.5532863751927646"
      ]
     },
     "execution_count": 102,
     "metadata": {},
     "output_type": "execute_result"
    }
   ],
   "source": [
    "#tf_idf\n",
    "xgb.fit(X_train2,y_train2)\n",
    "y_pred12 = xgb.predict(X_test2)\n",
    "accuracy_score(y_test1,y_pred2)"
   ]
  },
  {
   "cell_type": "markdown",
   "id": "d5b0d24f",
   "metadata": {},
   "source": [
    "# 7. Applying Deep learning Methods"
   ]
  },
  {
   "cell_type": "markdown",
   "id": "bfadef96",
   "metadata": {},
   "source": [
    "#### 7.0.1 From now on we'll use TF-IDF features with one hot encoding target columns"
   ]
  },
  {
   "cell_type": "code",
   "execution_count": 51,
   "id": "5d76cdd1",
   "metadata": {},
   "outputs": [
    {
     "data": {
      "text/plain": [
       "(95971, 22471)"
      ]
     },
     "execution_count": 51,
     "metadata": {},
     "output_type": "execute_result"
    }
   ],
   "source": [
    "X_train3.shape"
   ]
  },
  {
   "cell_type": "code",
   "execution_count": 52,
   "id": "259e7d62",
   "metadata": {},
   "outputs": [
    {
     "data": {
      "text/plain": [
       "<23993x22471 sparse matrix of type '<class 'numpy.float64'>'\n",
       "\twith 621839 stored elements in Compressed Sparse Row format>"
      ]
     },
     "execution_count": 52,
     "metadata": {},
     "output_type": "execute_result"
    }
   ],
   "source": [
    "X_test3"
   ]
  },
  {
   "cell_type": "code",
   "execution_count": 53,
   "id": "1ed66a97",
   "metadata": {},
   "outputs": [
    {
     "data": {
      "text/plain": [
       "(95971, 28)"
      ]
     },
     "execution_count": 53,
     "metadata": {},
     "output_type": "execute_result"
    }
   ],
   "source": [
    "y_train3.shape"
   ]
  },
  {
   "cell_type": "code",
   "execution_count": 89,
   "id": "93e65635",
   "metadata": {},
   "outputs": [],
   "source": [
    "import tensorflow as tf\n",
    "from keras.models import Sequential\n",
    "from keras.layers.normalization.batch_normalization import BatchNormalization\n",
    "from keras.layers import Dense, Dropout\n",
    "from tensorflow.keras.optimizers import Adam\n",
    "import keras\n"
   ]
  },
  {
   "cell_type": "markdown",
   "id": "db70d1e9",
   "metadata": {},
   "source": [
    "### 7.1 Neural Network Architecture for multilabel classification"
   ]
  },
  {
   "cell_type": "code",
   "execution_count": 90,
   "id": "b08d8d0b",
   "metadata": {},
   "outputs": [],
   "source": [
    "model = Sequential()\n",
    "model.add(Dense(600,activation='selu',input_shape=(22471,)))\n",
    "model.add(Dropout(0.4))\n",
    "model.add(Dense(260,activation='selu'))\n",
    "model.add(Dropout(0.3))\n",
    "model.add(Dense(180,activation='selu'))\n",
    "model.add(Dropout(0.3))\n",
    "model.add(Dense(64,activation='selu'))\n",
    "model.add(Dropout(0.3))\n",
    "model.add(Dense(28,activation='sigmoid'))"
   ]
  },
  {
   "cell_type": "code",
   "execution_count": 91,
   "id": "29a78ac7",
   "metadata": {},
   "outputs": [
    {
     "name": "stdout",
     "output_type": "stream",
     "text": [
      "Model: \"sequential_2\"\n",
      "_________________________________________________________________\n",
      " Layer (type)                Output Shape              Param #   \n",
      "=================================================================\n",
      " dense_10 (Dense)            (None, 600)               13483200  \n",
      "                                                                 \n",
      " dropout_8 (Dropout)         (None, 600)               0         \n",
      "                                                                 \n",
      " dense_11 (Dense)            (None, 260)               156260    \n",
      "                                                                 \n",
      " dropout_9 (Dropout)         (None, 260)               0         \n",
      "                                                                 \n",
      " dense_12 (Dense)            (None, 180)               46980     \n",
      "                                                                 \n",
      " dropout_10 (Dropout)        (None, 180)               0         \n",
      "                                                                 \n",
      " dense_13 (Dense)            (None, 64)                11584     \n",
      "                                                                 \n",
      " dropout_11 (Dropout)        (None, 64)                0         \n",
      "                                                                 \n",
      " dense_14 (Dense)            (None, 28)                1820      \n",
      "                                                                 \n",
      "=================================================================\n",
      "Total params: 13,699,844\n",
      "Trainable params: 13,699,844\n",
      "Non-trainable params: 0\n",
      "_________________________________________________________________\n"
     ]
    }
   ],
   "source": [
    "model.summary()"
   ]
  },
  {
   "cell_type": "markdown",
   "id": "0df86999",
   "metadata": {},
   "source": [
    "### 7.2 Compiling model"
   ]
  },
  {
   "cell_type": "code",
   "execution_count": 99,
   "id": "b2954984",
   "metadata": {},
   "outputs": [],
   "source": [
    "model.compile(optimizer='adam',loss='binary_crossentropy',metrics=['binary_accuracy'])"
   ]
  },
  {
   "cell_type": "markdown",
   "id": "0a066bd5",
   "metadata": {},
   "source": [
    "### 7.3 Early Stopping"
   ]
  },
  {
   "cell_type": "code",
   "execution_count": 96,
   "id": "53f86be0",
   "metadata": {},
   "outputs": [],
   "source": [
    "from keras.callbacks import EarlyStopping\n",
    "earlystop = EarlyStopping(monitor = 'val_loss',\n",
    "                          min_delta = 0,\n",
    "                          patience = 3,\n",
    "                          verbose = 1,\n",
    "                          restore_best_weights = True)"
   ]
  },
  {
   "cell_type": "markdown",
   "id": "a17e9e1e",
   "metadata": {},
   "source": [
    "### 7.4 Index sorting on Sparse metrice"
   ]
  },
  {
   "cell_type": "code",
   "execution_count": 64,
   "id": "1f68e8db",
   "metadata": {},
   "outputs": [],
   "source": [
    "def convert_sparse_matrix_to_sparse_tensor(X):\n",
    "    coo = X.tocoo()\n",
    "    indices = np.mat([coo.row, coo.col]).transpose()\n",
    "    return tf.SparseTensor(indices, coo.data, coo.shape)"
   ]
  },
  {
   "cell_type": "code",
   "execution_count": 65,
   "id": "a43fcc15",
   "metadata": {},
   "outputs": [],
   "source": [
    "X_train3= convert_sparse_matrix_to_sparse_tensor(X_train3)\n",
    "X_test3= convert_sparse_matrix_to_sparse_tensor(X_test3)\n"
   ]
  },
  {
   "cell_type": "code",
   "execution_count": 66,
   "id": "3d6dc700",
   "metadata": {},
   "outputs": [],
   "source": [
    "X_train3= tf.sparse.reorder(X_train3)\n",
    "X_test3= tf.sparse.reorder(X_test3)\n"
   ]
  },
  {
   "cell_type": "markdown",
   "id": "5e9dbdc9",
   "metadata": {},
   "source": [
    "### 7.5 Traning"
   ]
  },
  {
   "cell_type": "code",
   "execution_count": 100,
   "id": "99fc9064",
   "metadata": {},
   "outputs": [
    {
     "name": "stdout",
     "output_type": "stream",
     "text": [
      "Epoch 1/25\n",
      "960/960 [==============================] - 145s 150ms/step - loss: 0.1115 - binary_accuracy: 0.9675 - val_loss: 0.0759 - val_binary_accuracy: 0.9752\n",
      "Epoch 2/25\n",
      "960/960 [==============================] - 140s 145ms/step - loss: 0.0813 - binary_accuracy: 0.9744 - val_loss: 0.0725 - val_binary_accuracy: 0.9766\n",
      "Epoch 3/25\n",
      "960/960 [==============================] - 141s 146ms/step - loss: 0.0727 - binary_accuracy: 0.9767 - val_loss: 0.0720 - val_binary_accuracy: 0.9768\n",
      "Epoch 4/25\n",
      "960/960 [==============================] - 141s 147ms/step - loss: 0.0683 - binary_accuracy: 0.9781 - val_loss: 0.0717 - val_binary_accuracy: 0.9768\n",
      "Epoch 5/25\n",
      "960/960 [==============================] - 142s 147ms/step - loss: 0.0634 - binary_accuracy: 0.9795 - val_loss: 0.0710 - val_binary_accuracy: 0.9771\n",
      "Epoch 6/25\n",
      "960/960 [==============================] - 137s 142ms/step - loss: 0.0603 - binary_accuracy: 0.9804 - val_loss: 0.0721 - val_binary_accuracy: 0.9769\n",
      "Epoch 7/25\n",
      "960/960 [==============================] - 137s 142ms/step - loss: 0.0576 - binary_accuracy: 0.9813 - val_loss: 0.0719 - val_binary_accuracy: 0.9769\n",
      "Epoch 8/25\n",
      "960/960 [==============================] - ETA: 0s - loss: 0.0555 - binary_accuracy: 0.9820Restoring model weights from the end of the best epoch: 5.\n",
      "960/960 [==============================] - 138s 143ms/step - loss: 0.0555 - binary_accuracy: 0.9820 - val_loss: 0.0730 - val_binary_accuracy: 0.9770\n",
      "Epoch 8: early stopping\n"
     ]
    }
   ],
   "source": [
    "history=model.fit(X_train3,\n",
    "                  y_train3,\n",
    "                  epochs=25,\n",
    "                  validation_data=(X_test3, y_test3),\n",
    "                  batch_size=100,callbacks=earlystop\n",
    "                 \n",
    "                 )"
   ]
  },
  {
   "cell_type": "markdown",
   "id": "f19e2ecd",
   "metadata": {},
   "source": [
    "### 7.6 Ploting Binary accuracy"
   ]
  },
  {
   "cell_type": "code",
   "execution_count": 102,
   "id": "bd69a292",
   "metadata": {},
   "outputs": [
    {
     "data": {
      "application/vnd.plotly.v1+json": {
       "config": {
        "plotlyServerURL": "https://plot.ly"
       },
       "data": [
        {
         "mode": "lines+markers",
         "name": "Training accuracy",
         "type": "scatter",
         "x": [
          0,
          1,
          2,
          3,
          4,
          5,
          6,
          7
         ],
         "y": [
          0.9674519896507263,
          0.9744024276733398,
          0.9767341017723083,
          0.9780623316764832,
          0.9794567823410034,
          0.9803974628448486,
          0.9813045859336853,
          0.9819536209106445
         ]
        },
        {
         "mode": "lines+markers",
         "name": "Binary accuracy",
         "type": "scatter",
         "x": [
          0,
          1,
          2,
          3,
          4,
          5,
          6,
          7
         ],
         "y": [
          0.9752086997032166,
          0.9765602946281433,
          0.9767594933509827,
          0.9767712354660034,
          0.9770544171333313,
          0.9768667817115784,
          0.9768832921981812,
          0.9769619703292847
         ]
        }
       ],
       "layout": {
        "template": {
         "data": {
          "bar": [
           {
            "error_x": {
             "color": "#2a3f5f"
            },
            "error_y": {
             "color": "#2a3f5f"
            },
            "marker": {
             "line": {
              "color": "#E5ECF6",
              "width": 0.5
             },
             "pattern": {
              "fillmode": "overlay",
              "size": 10,
              "solidity": 0.2
             }
            },
            "type": "bar"
           }
          ],
          "barpolar": [
           {
            "marker": {
             "line": {
              "color": "#E5ECF6",
              "width": 0.5
             },
             "pattern": {
              "fillmode": "overlay",
              "size": 10,
              "solidity": 0.2
             }
            },
            "type": "barpolar"
           }
          ],
          "carpet": [
           {
            "aaxis": {
             "endlinecolor": "#2a3f5f",
             "gridcolor": "white",
             "linecolor": "white",
             "minorgridcolor": "white",
             "startlinecolor": "#2a3f5f"
            },
            "baxis": {
             "endlinecolor": "#2a3f5f",
             "gridcolor": "white",
             "linecolor": "white",
             "minorgridcolor": "white",
             "startlinecolor": "#2a3f5f"
            },
            "type": "carpet"
           }
          ],
          "choropleth": [
           {
            "colorbar": {
             "outlinewidth": 0,
             "ticks": ""
            },
            "type": "choropleth"
           }
          ],
          "contour": [
           {
            "colorbar": {
             "outlinewidth": 0,
             "ticks": ""
            },
            "colorscale": [
             [
              0,
              "#0d0887"
             ],
             [
              0.1111111111111111,
              "#46039f"
             ],
             [
              0.2222222222222222,
              "#7201a8"
             ],
             [
              0.3333333333333333,
              "#9c179e"
             ],
             [
              0.4444444444444444,
              "#bd3786"
             ],
             [
              0.5555555555555556,
              "#d8576b"
             ],
             [
              0.6666666666666666,
              "#ed7953"
             ],
             [
              0.7777777777777778,
              "#fb9f3a"
             ],
             [
              0.8888888888888888,
              "#fdca26"
             ],
             [
              1,
              "#f0f921"
             ]
            ],
            "type": "contour"
           }
          ],
          "contourcarpet": [
           {
            "colorbar": {
             "outlinewidth": 0,
             "ticks": ""
            },
            "type": "contourcarpet"
           }
          ],
          "heatmap": [
           {
            "colorbar": {
             "outlinewidth": 0,
             "ticks": ""
            },
            "colorscale": [
             [
              0,
              "#0d0887"
             ],
             [
              0.1111111111111111,
              "#46039f"
             ],
             [
              0.2222222222222222,
              "#7201a8"
             ],
             [
              0.3333333333333333,
              "#9c179e"
             ],
             [
              0.4444444444444444,
              "#bd3786"
             ],
             [
              0.5555555555555556,
              "#d8576b"
             ],
             [
              0.6666666666666666,
              "#ed7953"
             ],
             [
              0.7777777777777778,
              "#fb9f3a"
             ],
             [
              0.8888888888888888,
              "#fdca26"
             ],
             [
              1,
              "#f0f921"
             ]
            ],
            "type": "heatmap"
           }
          ],
          "heatmapgl": [
           {
            "colorbar": {
             "outlinewidth": 0,
             "ticks": ""
            },
            "colorscale": [
             [
              0,
              "#0d0887"
             ],
             [
              0.1111111111111111,
              "#46039f"
             ],
             [
              0.2222222222222222,
              "#7201a8"
             ],
             [
              0.3333333333333333,
              "#9c179e"
             ],
             [
              0.4444444444444444,
              "#bd3786"
             ],
             [
              0.5555555555555556,
              "#d8576b"
             ],
             [
              0.6666666666666666,
              "#ed7953"
             ],
             [
              0.7777777777777778,
              "#fb9f3a"
             ],
             [
              0.8888888888888888,
              "#fdca26"
             ],
             [
              1,
              "#f0f921"
             ]
            ],
            "type": "heatmapgl"
           }
          ],
          "histogram": [
           {
            "marker": {
             "pattern": {
              "fillmode": "overlay",
              "size": 10,
              "solidity": 0.2
             }
            },
            "type": "histogram"
           }
          ],
          "histogram2d": [
           {
            "colorbar": {
             "outlinewidth": 0,
             "ticks": ""
            },
            "colorscale": [
             [
              0,
              "#0d0887"
             ],
             [
              0.1111111111111111,
              "#46039f"
             ],
             [
              0.2222222222222222,
              "#7201a8"
             ],
             [
              0.3333333333333333,
              "#9c179e"
             ],
             [
              0.4444444444444444,
              "#bd3786"
             ],
             [
              0.5555555555555556,
              "#d8576b"
             ],
             [
              0.6666666666666666,
              "#ed7953"
             ],
             [
              0.7777777777777778,
              "#fb9f3a"
             ],
             [
              0.8888888888888888,
              "#fdca26"
             ],
             [
              1,
              "#f0f921"
             ]
            ],
            "type": "histogram2d"
           }
          ],
          "histogram2dcontour": [
           {
            "colorbar": {
             "outlinewidth": 0,
             "ticks": ""
            },
            "colorscale": [
             [
              0,
              "#0d0887"
             ],
             [
              0.1111111111111111,
              "#46039f"
             ],
             [
              0.2222222222222222,
              "#7201a8"
             ],
             [
              0.3333333333333333,
              "#9c179e"
             ],
             [
              0.4444444444444444,
              "#bd3786"
             ],
             [
              0.5555555555555556,
              "#d8576b"
             ],
             [
              0.6666666666666666,
              "#ed7953"
             ],
             [
              0.7777777777777778,
              "#fb9f3a"
             ],
             [
              0.8888888888888888,
              "#fdca26"
             ],
             [
              1,
              "#f0f921"
             ]
            ],
            "type": "histogram2dcontour"
           }
          ],
          "mesh3d": [
           {
            "colorbar": {
             "outlinewidth": 0,
             "ticks": ""
            },
            "type": "mesh3d"
           }
          ],
          "parcoords": [
           {
            "line": {
             "colorbar": {
              "outlinewidth": 0,
              "ticks": ""
             }
            },
            "type": "parcoords"
           }
          ],
          "pie": [
           {
            "automargin": true,
            "type": "pie"
           }
          ],
          "scatter": [
           {
            "fillpattern": {
             "fillmode": "overlay",
             "size": 10,
             "solidity": 0.2
            },
            "type": "scatter"
           }
          ],
          "scatter3d": [
           {
            "line": {
             "colorbar": {
              "outlinewidth": 0,
              "ticks": ""
             }
            },
            "marker": {
             "colorbar": {
              "outlinewidth": 0,
              "ticks": ""
             }
            },
            "type": "scatter3d"
           }
          ],
          "scattercarpet": [
           {
            "marker": {
             "colorbar": {
              "outlinewidth": 0,
              "ticks": ""
             }
            },
            "type": "scattercarpet"
           }
          ],
          "scattergeo": [
           {
            "marker": {
             "colorbar": {
              "outlinewidth": 0,
              "ticks": ""
             }
            },
            "type": "scattergeo"
           }
          ],
          "scattergl": [
           {
            "marker": {
             "colorbar": {
              "outlinewidth": 0,
              "ticks": ""
             }
            },
            "type": "scattergl"
           }
          ],
          "scattermapbox": [
           {
            "marker": {
             "colorbar": {
              "outlinewidth": 0,
              "ticks": ""
             }
            },
            "type": "scattermapbox"
           }
          ],
          "scatterpolar": [
           {
            "marker": {
             "colorbar": {
              "outlinewidth": 0,
              "ticks": ""
             }
            },
            "type": "scatterpolar"
           }
          ],
          "scatterpolargl": [
           {
            "marker": {
             "colorbar": {
              "outlinewidth": 0,
              "ticks": ""
             }
            },
            "type": "scatterpolargl"
           }
          ],
          "scatterternary": [
           {
            "marker": {
             "colorbar": {
              "outlinewidth": 0,
              "ticks": ""
             }
            },
            "type": "scatterternary"
           }
          ],
          "surface": [
           {
            "colorbar": {
             "outlinewidth": 0,
             "ticks": ""
            },
            "colorscale": [
             [
              0,
              "#0d0887"
             ],
             [
              0.1111111111111111,
              "#46039f"
             ],
             [
              0.2222222222222222,
              "#7201a8"
             ],
             [
              0.3333333333333333,
              "#9c179e"
             ],
             [
              0.4444444444444444,
              "#bd3786"
             ],
             [
              0.5555555555555556,
              "#d8576b"
             ],
             [
              0.6666666666666666,
              "#ed7953"
             ],
             [
              0.7777777777777778,
              "#fb9f3a"
             ],
             [
              0.8888888888888888,
              "#fdca26"
             ],
             [
              1,
              "#f0f921"
             ]
            ],
            "type": "surface"
           }
          ],
          "table": [
           {
            "cells": {
             "fill": {
              "color": "#EBF0F8"
             },
             "line": {
              "color": "white"
             }
            },
            "header": {
             "fill": {
              "color": "#C8D4E3"
             },
             "line": {
              "color": "white"
             }
            },
            "type": "table"
           }
          ]
         },
         "layout": {
          "annotationdefaults": {
           "arrowcolor": "#2a3f5f",
           "arrowhead": 0,
           "arrowwidth": 1
          },
          "autotypenumbers": "strict",
          "coloraxis": {
           "colorbar": {
            "outlinewidth": 0,
            "ticks": ""
           }
          },
          "colorscale": {
           "diverging": [
            [
             0,
             "#8e0152"
            ],
            [
             0.1,
             "#c51b7d"
            ],
            [
             0.2,
             "#de77ae"
            ],
            [
             0.3,
             "#f1b6da"
            ],
            [
             0.4,
             "#fde0ef"
            ],
            [
             0.5,
             "#f7f7f7"
            ],
            [
             0.6,
             "#e6f5d0"
            ],
            [
             0.7,
             "#b8e186"
            ],
            [
             0.8,
             "#7fbc41"
            ],
            [
             0.9,
             "#4d9221"
            ],
            [
             1,
             "#276419"
            ]
           ],
           "sequential": [
            [
             0,
             "#0d0887"
            ],
            [
             0.1111111111111111,
             "#46039f"
            ],
            [
             0.2222222222222222,
             "#7201a8"
            ],
            [
             0.3333333333333333,
             "#9c179e"
            ],
            [
             0.4444444444444444,
             "#bd3786"
            ],
            [
             0.5555555555555556,
             "#d8576b"
            ],
            [
             0.6666666666666666,
             "#ed7953"
            ],
            [
             0.7777777777777778,
             "#fb9f3a"
            ],
            [
             0.8888888888888888,
             "#fdca26"
            ],
            [
             1,
             "#f0f921"
            ]
           ],
           "sequentialminus": [
            [
             0,
             "#0d0887"
            ],
            [
             0.1111111111111111,
             "#46039f"
            ],
            [
             0.2222222222222222,
             "#7201a8"
            ],
            [
             0.3333333333333333,
             "#9c179e"
            ],
            [
             0.4444444444444444,
             "#bd3786"
            ],
            [
             0.5555555555555556,
             "#d8576b"
            ],
            [
             0.6666666666666666,
             "#ed7953"
            ],
            [
             0.7777777777777778,
             "#fb9f3a"
            ],
            [
             0.8888888888888888,
             "#fdca26"
            ],
            [
             1,
             "#f0f921"
            ]
           ]
          },
          "colorway": [
           "#636efa",
           "#EF553B",
           "#00cc96",
           "#ab63fa",
           "#FFA15A",
           "#19d3f3",
           "#FF6692",
           "#B6E880",
           "#FF97FF",
           "#FECB52"
          ],
          "font": {
           "color": "#2a3f5f"
          },
          "geo": {
           "bgcolor": "white",
           "lakecolor": "white",
           "landcolor": "#E5ECF6",
           "showlakes": true,
           "showland": true,
           "subunitcolor": "white"
          },
          "hoverlabel": {
           "align": "left"
          },
          "hovermode": "closest",
          "mapbox": {
           "style": "light"
          },
          "paper_bgcolor": "white",
          "plot_bgcolor": "#E5ECF6",
          "polar": {
           "angularaxis": {
            "gridcolor": "white",
            "linecolor": "white",
            "ticks": ""
           },
           "bgcolor": "#E5ECF6",
           "radialaxis": {
            "gridcolor": "white",
            "linecolor": "white",
            "ticks": ""
           }
          },
          "scene": {
           "xaxis": {
            "backgroundcolor": "#E5ECF6",
            "gridcolor": "white",
            "gridwidth": 2,
            "linecolor": "white",
            "showbackground": true,
            "ticks": "",
            "zerolinecolor": "white"
           },
           "yaxis": {
            "backgroundcolor": "#E5ECF6",
            "gridcolor": "white",
            "gridwidth": 2,
            "linecolor": "white",
            "showbackground": true,
            "ticks": "",
            "zerolinecolor": "white"
           },
           "zaxis": {
            "backgroundcolor": "#E5ECF6",
            "gridcolor": "white",
            "gridwidth": 2,
            "linecolor": "white",
            "showbackground": true,
            "ticks": "",
            "zerolinecolor": "white"
           }
          },
          "shapedefaults": {
           "line": {
            "color": "#2a3f5f"
           }
          },
          "ternary": {
           "aaxis": {
            "gridcolor": "white",
            "linecolor": "white",
            "ticks": ""
           },
           "baxis": {
            "gridcolor": "white",
            "linecolor": "white",
            "ticks": ""
           },
           "bgcolor": "#E5ECF6",
           "caxis": {
            "gridcolor": "white",
            "linecolor": "white",
            "ticks": ""
           }
          },
          "title": {
           "x": 0.05
          },
          "xaxis": {
           "automargin": true,
           "gridcolor": "white",
           "linecolor": "white",
           "ticks": "",
           "title": {
            "standoff": 15
           },
           "zerolinecolor": "white",
           "zerolinewidth": 2
          },
          "yaxis": {
           "automargin": true,
           "gridcolor": "white",
           "linecolor": "white",
           "ticks": "",
           "title": {
            "standoff": 15
           },
           "zerolinecolor": "white",
           "zerolinewidth": 2
          }
         }
        },
        "title": {
         "text": "Accuracy"
        },
        "xaxis": {
         "title": {
          "text": "Epoch"
         }
        },
        "yaxis": {
         "title": {
          "text": "Percentage"
         }
        }
       }
      },
      "text/html": [
       "<div>                            <div id=\"7ac61185-636d-47ce-be9c-cbd08f130975\" class=\"plotly-graph-div\" style=\"height:525px; width:100%;\"></div>            <script type=\"text/javascript\">                require([\"plotly\"], function(Plotly) {                    window.PLOTLYENV=window.PLOTLYENV || {};                                    if (document.getElementById(\"7ac61185-636d-47ce-be9c-cbd08f130975\")) {                    Plotly.newPlot(                        \"7ac61185-636d-47ce-be9c-cbd08f130975\",                        [{\"mode\":\"lines+markers\",\"name\":\"Training accuracy\",\"x\":[0,1,2,3,4,5,6,7],\"y\":[0.9674519896507263,0.9744024276733398,0.9767341017723083,0.9780623316764832,0.9794567823410034,0.9803974628448486,0.9813045859336853,0.9819536209106445],\"type\":\"scatter\"},{\"mode\":\"lines+markers\",\"name\":\"Binary accuracy\",\"x\":[0,1,2,3,4,5,6,7],\"y\":[0.9752086997032166,0.9765602946281433,0.9767594933509827,0.9767712354660034,0.9770544171333313,0.9768667817115784,0.9768832921981812,0.9769619703292847],\"type\":\"scatter\"}],                        {\"template\":{\"data\":{\"histogram2dcontour\":[{\"type\":\"histogram2dcontour\",\"colorbar\":{\"outlinewidth\":0,\"ticks\":\"\"},\"colorscale\":[[0.0,\"#0d0887\"],[0.1111111111111111,\"#46039f\"],[0.2222222222222222,\"#7201a8\"],[0.3333333333333333,\"#9c179e\"],[0.4444444444444444,\"#bd3786\"],[0.5555555555555556,\"#d8576b\"],[0.6666666666666666,\"#ed7953\"],[0.7777777777777778,\"#fb9f3a\"],[0.8888888888888888,\"#fdca26\"],[1.0,\"#f0f921\"]]}],\"choropleth\":[{\"type\":\"choropleth\",\"colorbar\":{\"outlinewidth\":0,\"ticks\":\"\"}}],\"histogram2d\":[{\"type\":\"histogram2d\",\"colorbar\":{\"outlinewidth\":0,\"ticks\":\"\"},\"colorscale\":[[0.0,\"#0d0887\"],[0.1111111111111111,\"#46039f\"],[0.2222222222222222,\"#7201a8\"],[0.3333333333333333,\"#9c179e\"],[0.4444444444444444,\"#bd3786\"],[0.5555555555555556,\"#d8576b\"],[0.6666666666666666,\"#ed7953\"],[0.7777777777777778,\"#fb9f3a\"],[0.8888888888888888,\"#fdca26\"],[1.0,\"#f0f921\"]]}],\"heatmap\":[{\"type\":\"heatmap\",\"colorbar\":{\"outlinewidth\":0,\"ticks\":\"\"},\"colorscale\":[[0.0,\"#0d0887\"],[0.1111111111111111,\"#46039f\"],[0.2222222222222222,\"#7201a8\"],[0.3333333333333333,\"#9c179e\"],[0.4444444444444444,\"#bd3786\"],[0.5555555555555556,\"#d8576b\"],[0.6666666666666666,\"#ed7953\"],[0.7777777777777778,\"#fb9f3a\"],[0.8888888888888888,\"#fdca26\"],[1.0,\"#f0f921\"]]}],\"heatmapgl\":[{\"type\":\"heatmapgl\",\"colorbar\":{\"outlinewidth\":0,\"ticks\":\"\"},\"colorscale\":[[0.0,\"#0d0887\"],[0.1111111111111111,\"#46039f\"],[0.2222222222222222,\"#7201a8\"],[0.3333333333333333,\"#9c179e\"],[0.4444444444444444,\"#bd3786\"],[0.5555555555555556,\"#d8576b\"],[0.6666666666666666,\"#ed7953\"],[0.7777777777777778,\"#fb9f3a\"],[0.8888888888888888,\"#fdca26\"],[1.0,\"#f0f921\"]]}],\"contourcarpet\":[{\"type\":\"contourcarpet\",\"colorbar\":{\"outlinewidth\":0,\"ticks\":\"\"}}],\"contour\":[{\"type\":\"contour\",\"colorbar\":{\"outlinewidth\":0,\"ticks\":\"\"},\"colorscale\":[[0.0,\"#0d0887\"],[0.1111111111111111,\"#46039f\"],[0.2222222222222222,\"#7201a8\"],[0.3333333333333333,\"#9c179e\"],[0.4444444444444444,\"#bd3786\"],[0.5555555555555556,\"#d8576b\"],[0.6666666666666666,\"#ed7953\"],[0.7777777777777778,\"#fb9f3a\"],[0.8888888888888888,\"#fdca26\"],[1.0,\"#f0f921\"]]}],\"surface\":[{\"type\":\"surface\",\"colorbar\":{\"outlinewidth\":0,\"ticks\":\"\"},\"colorscale\":[[0.0,\"#0d0887\"],[0.1111111111111111,\"#46039f\"],[0.2222222222222222,\"#7201a8\"],[0.3333333333333333,\"#9c179e\"],[0.4444444444444444,\"#bd3786\"],[0.5555555555555556,\"#d8576b\"],[0.6666666666666666,\"#ed7953\"],[0.7777777777777778,\"#fb9f3a\"],[0.8888888888888888,\"#fdca26\"],[1.0,\"#f0f921\"]]}],\"mesh3d\":[{\"type\":\"mesh3d\",\"colorbar\":{\"outlinewidth\":0,\"ticks\":\"\"}}],\"scatter\":[{\"fillpattern\":{\"fillmode\":\"overlay\",\"size\":10,\"solidity\":0.2},\"type\":\"scatter\"}],\"parcoords\":[{\"type\":\"parcoords\",\"line\":{\"colorbar\":{\"outlinewidth\":0,\"ticks\":\"\"}}}],\"scatterpolargl\":[{\"type\":\"scatterpolargl\",\"marker\":{\"colorbar\":{\"outlinewidth\":0,\"ticks\":\"\"}}}],\"bar\":[{\"error_x\":{\"color\":\"#2a3f5f\"},\"error_y\":{\"color\":\"#2a3f5f\"},\"marker\":{\"line\":{\"color\":\"#E5ECF6\",\"width\":0.5},\"pattern\":{\"fillmode\":\"overlay\",\"size\":10,\"solidity\":0.2}},\"type\":\"bar\"}],\"scattergeo\":[{\"type\":\"scattergeo\",\"marker\":{\"colorbar\":{\"outlinewidth\":0,\"ticks\":\"\"}}}],\"scatterpolar\":[{\"type\":\"scatterpolar\",\"marker\":{\"colorbar\":{\"outlinewidth\":0,\"ticks\":\"\"}}}],\"histogram\":[{\"marker\":{\"pattern\":{\"fillmode\":\"overlay\",\"size\":10,\"solidity\":0.2}},\"type\":\"histogram\"}],\"scattergl\":[{\"type\":\"scattergl\",\"marker\":{\"colorbar\":{\"outlinewidth\":0,\"ticks\":\"\"}}}],\"scatter3d\":[{\"type\":\"scatter3d\",\"line\":{\"colorbar\":{\"outlinewidth\":0,\"ticks\":\"\"}},\"marker\":{\"colorbar\":{\"outlinewidth\":0,\"ticks\":\"\"}}}],\"scattermapbox\":[{\"type\":\"scattermapbox\",\"marker\":{\"colorbar\":{\"outlinewidth\":0,\"ticks\":\"\"}}}],\"scatterternary\":[{\"type\":\"scatterternary\",\"marker\":{\"colorbar\":{\"outlinewidth\":0,\"ticks\":\"\"}}}],\"scattercarpet\":[{\"type\":\"scattercarpet\",\"marker\":{\"colorbar\":{\"outlinewidth\":0,\"ticks\":\"\"}}}],\"carpet\":[{\"aaxis\":{\"endlinecolor\":\"#2a3f5f\",\"gridcolor\":\"white\",\"linecolor\":\"white\",\"minorgridcolor\":\"white\",\"startlinecolor\":\"#2a3f5f\"},\"baxis\":{\"endlinecolor\":\"#2a3f5f\",\"gridcolor\":\"white\",\"linecolor\":\"white\",\"minorgridcolor\":\"white\",\"startlinecolor\":\"#2a3f5f\"},\"type\":\"carpet\"}],\"table\":[{\"cells\":{\"fill\":{\"color\":\"#EBF0F8\"},\"line\":{\"color\":\"white\"}},\"header\":{\"fill\":{\"color\":\"#C8D4E3\"},\"line\":{\"color\":\"white\"}},\"type\":\"table\"}],\"barpolar\":[{\"marker\":{\"line\":{\"color\":\"#E5ECF6\",\"width\":0.5},\"pattern\":{\"fillmode\":\"overlay\",\"size\":10,\"solidity\":0.2}},\"type\":\"barpolar\"}],\"pie\":[{\"automargin\":true,\"type\":\"pie\"}]},\"layout\":{\"autotypenumbers\":\"strict\",\"colorway\":[\"#636efa\",\"#EF553B\",\"#00cc96\",\"#ab63fa\",\"#FFA15A\",\"#19d3f3\",\"#FF6692\",\"#B6E880\",\"#FF97FF\",\"#FECB52\"],\"font\":{\"color\":\"#2a3f5f\"},\"hovermode\":\"closest\",\"hoverlabel\":{\"align\":\"left\"},\"paper_bgcolor\":\"white\",\"plot_bgcolor\":\"#E5ECF6\",\"polar\":{\"bgcolor\":\"#E5ECF6\",\"angularaxis\":{\"gridcolor\":\"white\",\"linecolor\":\"white\",\"ticks\":\"\"},\"radialaxis\":{\"gridcolor\":\"white\",\"linecolor\":\"white\",\"ticks\":\"\"}},\"ternary\":{\"bgcolor\":\"#E5ECF6\",\"aaxis\":{\"gridcolor\":\"white\",\"linecolor\":\"white\",\"ticks\":\"\"},\"baxis\":{\"gridcolor\":\"white\",\"linecolor\":\"white\",\"ticks\":\"\"},\"caxis\":{\"gridcolor\":\"white\",\"linecolor\":\"white\",\"ticks\":\"\"}},\"coloraxis\":{\"colorbar\":{\"outlinewidth\":0,\"ticks\":\"\"}},\"colorscale\":{\"sequential\":[[0.0,\"#0d0887\"],[0.1111111111111111,\"#46039f\"],[0.2222222222222222,\"#7201a8\"],[0.3333333333333333,\"#9c179e\"],[0.4444444444444444,\"#bd3786\"],[0.5555555555555556,\"#d8576b\"],[0.6666666666666666,\"#ed7953\"],[0.7777777777777778,\"#fb9f3a\"],[0.8888888888888888,\"#fdca26\"],[1.0,\"#f0f921\"]],\"sequentialminus\":[[0.0,\"#0d0887\"],[0.1111111111111111,\"#46039f\"],[0.2222222222222222,\"#7201a8\"],[0.3333333333333333,\"#9c179e\"],[0.4444444444444444,\"#bd3786\"],[0.5555555555555556,\"#d8576b\"],[0.6666666666666666,\"#ed7953\"],[0.7777777777777778,\"#fb9f3a\"],[0.8888888888888888,\"#fdca26\"],[1.0,\"#f0f921\"]],\"diverging\":[[0,\"#8e0152\"],[0.1,\"#c51b7d\"],[0.2,\"#de77ae\"],[0.3,\"#f1b6da\"],[0.4,\"#fde0ef\"],[0.5,\"#f7f7f7\"],[0.6,\"#e6f5d0\"],[0.7,\"#b8e186\"],[0.8,\"#7fbc41\"],[0.9,\"#4d9221\"],[1,\"#276419\"]]},\"xaxis\":{\"gridcolor\":\"white\",\"linecolor\":\"white\",\"ticks\":\"\",\"title\":{\"standoff\":15},\"zerolinecolor\":\"white\",\"automargin\":true,\"zerolinewidth\":2},\"yaxis\":{\"gridcolor\":\"white\",\"linecolor\":\"white\",\"ticks\":\"\",\"title\":{\"standoff\":15},\"zerolinecolor\":\"white\",\"automargin\":true,\"zerolinewidth\":2},\"scene\":{\"xaxis\":{\"backgroundcolor\":\"#E5ECF6\",\"gridcolor\":\"white\",\"linecolor\":\"white\",\"showbackground\":true,\"ticks\":\"\",\"zerolinecolor\":\"white\",\"gridwidth\":2},\"yaxis\":{\"backgroundcolor\":\"#E5ECF6\",\"gridcolor\":\"white\",\"linecolor\":\"white\",\"showbackground\":true,\"ticks\":\"\",\"zerolinecolor\":\"white\",\"gridwidth\":2},\"zaxis\":{\"backgroundcolor\":\"#E5ECF6\",\"gridcolor\":\"white\",\"linecolor\":\"white\",\"showbackground\":true,\"ticks\":\"\",\"zerolinecolor\":\"white\",\"gridwidth\":2}},\"shapedefaults\":{\"line\":{\"color\":\"#2a3f5f\"}},\"annotationdefaults\":{\"arrowcolor\":\"#2a3f5f\",\"arrowhead\":0,\"arrowwidth\":1},\"geo\":{\"bgcolor\":\"white\",\"landcolor\":\"#E5ECF6\",\"subunitcolor\":\"white\",\"showland\":true,\"showlakes\":true,\"lakecolor\":\"white\"},\"title\":{\"x\":0.05},\"mapbox\":{\"style\":\"light\"}}},\"title\":{\"text\":\"Accuracy\"},\"xaxis\":{\"title\":{\"text\":\"Epoch\"}},\"yaxis\":{\"title\":{\"text\":\"Percentage\"}}},                        {\"responsive\": true}                    ).then(function(){\n",
       "                            \n",
       "var gd = document.getElementById('7ac61185-636d-47ce-be9c-cbd08f130975');\n",
       "var x = new MutationObserver(function (mutations, observer) {{\n",
       "        var display = window.getComputedStyle(gd).display;\n",
       "        if (!display || display === 'none') {{\n",
       "            console.log([gd, 'removed!']);\n",
       "            Plotly.purge(gd);\n",
       "            observer.disconnect();\n",
       "        }}\n",
       "}});\n",
       "\n",
       "// Listen for the removal of the full notebook cells\n",
       "var notebookContainer = gd.closest('#notebook-container');\n",
       "if (notebookContainer) {{\n",
       "    x.observe(notebookContainer, {childList: true});\n",
       "}}\n",
       "\n",
       "// Listen for the clearing of the current output cell\n",
       "var outputEl = gd.closest('.output');\n",
       "if (outputEl) {{\n",
       "    x.observe(outputEl, {childList: true});\n",
       "}}\n",
       "\n",
       "                        })                };                });            </script>        </div>"
      ]
     },
     "metadata": {},
     "output_type": "display_data"
    }
   ],
   "source": [
    "import plotly.graph_objects as go\n",
    "import matplotlib.pyplot as plt\n",
    "fig = go.Figure()\n",
    "\n",
    "fig.add_trace(go.Scatter(x=history.epoch,\n",
    "                         y=history.history['binary_accuracy'],\n",
    "                         mode='lines+markers',\n",
    "                         name='Training accuracy'))\n",
    "fig.add_trace(go.Scatter(x=history.epoch,\n",
    "                         y=history.history['val_binary_accuracy'],\n",
    "                         mode='lines+markers',\n",
    "                         name='Binary accuracy'))\n",
    "fig.update_layout(title='Accuracy',\n",
    "                  xaxis=dict(title='Epoch'),\n",
    "                  yaxis=dict(title='Percentage'))\n",
    "fig.show()"
   ]
  },
  {
   "cell_type": "markdown",
   "id": "9c35f205",
   "metadata": {},
   "source": [
    "### 7.7 Saving model"
   ]
  },
  {
   "cell_type": "code",
   "execution_count": 105,
   "id": "28d00732",
   "metadata": {},
   "outputs": [],
   "source": [
    "PATH='/Courses/NLP/Bling/'"
   ]
  },
  {
   "cell_type": "code",
   "execution_count": 107,
   "id": "e1c7655d",
   "metadata": {
    "scrolled": true
   },
   "outputs": [],
   "source": [
    "model.save(PATH+'model.h5')"
   ]
  },
  {
   "cell_type": "code",
   "execution_count": 110,
   "id": "62cc852f",
   "metadata": {},
   "outputs": [
    {
     "data": {
      "text/plain": [
       "<keras.engine.sequential.Sequential at 0x21e54d53460>"
      ]
     },
     "execution_count": 110,
     "metadata": {},
     "output_type": "execute_result"
    }
   ],
   "source": [
    "#model=keras.models.load_model(PATH+'model.h5')"
   ]
  },
  {
   "cell_type": "code",
   "execution_count": null,
   "id": "757d4fbc",
   "metadata": {},
   "outputs": [],
   "source": []
  }
 ],
 "metadata": {
  "kernelspec": {
   "display_name": "Python 3 (ipykernel)",
   "language": "python",
   "name": "python3"
  },
  "language_info": {
   "codemirror_mode": {
    "name": "ipython",
    "version": 3
   },
   "file_extension": ".py",
   "mimetype": "text/x-python",
   "name": "python",
   "nbconvert_exporter": "python",
   "pygments_lexer": "ipython3",
   "version": "3.9.13"
  }
 },
 "nbformat": 4,
 "nbformat_minor": 5
}
